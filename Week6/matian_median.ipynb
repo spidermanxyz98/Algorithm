{
 "cells": [
  {
   "cell_type": "code",
   "execution_count": 42,
   "metadata": {
    "collapsed": true
   },
   "outputs": [],
   "source": [
    "import urllib.request\n",
    "import heapq\n",
    "import heapq_max\n",
    "import numpy as np\n",
    "import time"
   ]
  },
  {
   "cell_type": "code",
   "execution_count": 2,
   "metadata": {
    "collapsed": false
   },
   "outputs": [],
   "source": [
    "target_url=\"https://d3c33hcgiwev3.cloudfront.net/_6ec67df2804ff4b58ab21c12edcb21f8_Median.txt?Expires=1481241600&Signature=G2QMjkUofM-n77OOminw4X8tTjTzAh7o1Fi2Rlmyz0RBxw1uu21vgn8QFMqmzddatoPJmzOOzowdXIsYW6MJMKkDf613RYku5njZrMdNylXWufPnp4y4AnK7lYC6N-p0bBpL5WOiOs~DFAFncI9HvjoY9tTmqMCUtPMfuAQs7Lc_&Key-Pair-Id=APKAJLTNE6QMUY6HBC5A\"\n",
    "data=urllib.request.urlopen(target_url).read()\n",
    "\n",
    "txt_file=open(\"median\",\"w\")\n",
    "txt_file.write(str(data,\"utf-8\"))\n",
    "txt_file.close()"
   ]
  },
  {
   "cell_type": "code",
   "execution_count": 3,
   "metadata": {
    "collapsed": false
   },
   "outputs": [],
   "source": [
    "ori_data=[]\n",
    "with open(\"median\") as file:\n",
    "    for line in file.readlines():\n",
    "        ori_data.append(int(line))\n",
    "#ori_data"
   ]
  },
  {
   "cell_type": "code",
   "execution_count": 17,
   "metadata": {
    "collapsed": false
   },
   "outputs": [],
   "source": [
    "##brutal_force\n",
    "def stream_median(data):\n",
    "    median_list=[]\n",
    "    n=len(data)\n",
    "    for i in range(n):\n",
    "        array=np.sort(data[:i+1])\n",
    "        if i % 2 ==0:\n",
    "            median_list.append(array[i/2])\n",
    "        else:\n",
    "            median_list.append(array[int((i-1)/2)])\n",
    "        \n",
    "    return median_list\n",
    "        "
   ]
  },
  {
   "cell_type": "code",
   "execution_count": 35,
   "metadata": {
    "collapsed": true
   },
   "outputs": [],
   "source": [
    "##use max_heap and min_heap to keep the data\n",
    "def median_heap(data):\n",
    "    small=[]                            #max_heap to store data smaller than median\n",
    "    large=[]                            #min_heap to store data larger than median\n",
    "    median_list=[]                      #keep track of the runing median\n",
    "    \n",
    "    if data[0]>=data[1]:                #initialize the heaps\n",
    "        large.append(data[0])\n",
    "        small.append(data[1])\n",
    "    else:\n",
    "        large.append(data[1])\n",
    "        small.append(data[0])\n",
    "    \n",
    "    median_list.append(data[0])\n",
    "    median_list.append(small[0])\n",
    "    \n",
    "    for item in data[2:]:\n",
    "        if item<= small[0]:                        #add the new item to the heap \n",
    "            heapq_max.heappush_max(small,item) \n",
    "        else:\n",
    "            heapq.heappush(large,item)\n",
    "            \n",
    "        if (len(small)-len(large))==2:             #move one element from the heap which has two more items\n",
    "            temp=heapq_max.heappop_max(small)      #to the other. so that the two heaps differ at most one item\n",
    "            heapq.heappush(large,temp)\n",
    "        if (len(large)-len(small))==2:\n",
    "            temp=heapq.heappop(large)\n",
    "            heapq_max.heappush_max(small,temp)\n",
    "            \n",
    "        if len(small)==len(large):                #return the k/2th if k is even\n",
    "            median_list.append(small[0])\n",
    "        elif len(small)-len(large)==1:            #return (k+1)/2th if k is odd\n",
    "            median_list.append(small[0])\n",
    "        else:\n",
    "            median_list.append(large[0])\n",
    "    return(median_list)\n",
    "        \n",
    "        "
   ]
  },
  {
   "cell_type": "code",
   "execution_count": 44,
   "metadata": {
    "collapsed": false
   },
   "outputs": [
    {
     "name": "stdout",
     "output_type": "stream",
     "text": [
      "0.06140756607055664\n"
     ]
    },
    {
     "name": "stderr",
     "output_type": "stream",
     "text": [
      "/home/xinlin/anaconda3/lib/python3.5/site-packages/ipykernel/__main__.py:8: VisibleDeprecationWarning: using a non-integer number instead of an integer will result in an error in the future\n"
     ]
    },
    {
     "name": "stdout",
     "output_type": "stream",
     "text": [
      "7.651313304901123\n"
     ]
    }
   ],
   "source": [
    "#test=[1,2,3,4,10,4,6,9,22,24,12,19,71,43,31,32]\n",
    "#print(stream_median(test))\n",
    "start_time=time.time()\n",
    "sum(median_heap(ori_data))\n",
    "print(time.time()-start_time)\n",
    "\n",
    "start_time=time.time()\n",
    "sum(stream_median(ori_data))\n",
    "print(time.time()-start_time)"
   ]
  },
  {
   "cell_type": "code",
   "execution_count": null,
   "metadata": {
    "collapsed": true
   },
   "outputs": [],
   "source": []
  }
 ],
 "metadata": {
  "kernelspec": {
   "display_name": "Python [Root]",
   "language": "python",
   "name": "Python [Root]"
  },
  "language_info": {
   "codemirror_mode": {
    "name": "ipython",
    "version": 3
   },
   "file_extension": ".py",
   "mimetype": "text/x-python",
   "name": "python",
   "nbconvert_exporter": "python",
   "pygments_lexer": "ipython3",
   "version": "3.5.2"
  }
 },
 "nbformat": 4,
 "nbformat_minor": 0
}
