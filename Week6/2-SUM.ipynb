{
 "cells": [
  {
   "cell_type": "code",
   "execution_count": 15,
   "metadata": {
    "collapsed": true
   },
   "outputs": [],
   "source": [
    "import urllib.request\n",
    "import time"
   ]
  },
  {
   "cell_type": "code",
   "execution_count": 3,
   "metadata": {
    "collapsed": false
   },
   "outputs": [],
   "source": [
    "target_url=\"https://d3c33hcgiwev3.cloudfront.net/_6ec67df2804ff4b58ab21c12edcb21f8_algo1-programming_prob-2sum.txt?Expires=1481241600&Signature=FHkTvyhWwX9OLXDXwZ2LXrTH3VJLrWU7aG1LqAoxd8m1i6M8DEB2AkzakyMows~d7D6L~kvyjKmH~osTORR23TUtMFBb9rYUE6gTcD8MhobIhLNSc6WdXcham0fl-OSOfoRZl~PGBoK1cvmIPW~TPveXexzlRJDmEZVn8Mv8w4Q_&Key-Pair-Id=APKAJLTNE6QMUY6HBC5A\"\n",
    "\n",
    "data=urllib.request.urlopen(target_url).read()\n",
    "txt_file=open(\"input\",\"w\")\n",
    "txt_file.write(str(data,\"utf-8\"))\n",
    "txt_file.close()"
   ]
  },
  {
   "cell_type": "code",
   "execution_count": 42,
   "metadata": {
    "collapsed": false
   },
   "outputs": [
    {
     "data": {
      "text/plain": [
       "999752"
      ]
     },
     "execution_count": 42,
     "metadata": {},
     "output_type": "execute_result"
    }
   ],
   "source": [
    "ori_data=set()\n",
    "with open(\"input\") as file:\n",
    "    for line in file.readlines():\n",
    "        ori_data.add(int(line))\n",
    "len(ori_data)"
   ]
  },
  {
   "cell_type": "code",
   "execution_count": 57,
   "metadata": {
    "collapsed": false
   },
   "outputs": [
    {
     "name": "stdout",
     "output_type": "stream",
     "text": [
      "41\n",
      "660.4881415367126\n"
     ]
    }
   ],
   "source": [
    "#Although set(hash table) is used here, it is still too slow. Becuase for every target \n",
    "#the algorithm loops though the entire 1 million data. \n",
    "def sum_2(data, start, end):\n",
    "    count=0\n",
    "    for target in range(start, end+1, 1):\n",
    "        for x in data:\n",
    "            if ((target-x) in data) and (target!=2*x):\n",
    "                count+=1\n",
    "                break\n",
    "                \n",
    "    return count\n",
    "\n",
    "\n",
    "start_time=time.time()\n",
    "print(sum_2(ori_data, -1000, 1000))\n",
    "print(time.time()-start_time)\n",
    "    "
   ]
  }
 ],
 "metadata": {
  "kernelspec": {
   "display_name": "Python [Root]",
   "language": "python",
   "name": "Python [Root]"
  },
  "language_info": {
   "codemirror_mode": {
    "name": "ipython",
    "version": 3
   },
   "file_extension": ".py",
   "mimetype": "text/x-python",
   "name": "python",
   "nbconvert_exporter": "python",
   "pygments_lexer": "ipython3",
   "version": "3.5.2"
  }
 },
 "nbformat": 4,
 "nbformat_minor": 0
}
