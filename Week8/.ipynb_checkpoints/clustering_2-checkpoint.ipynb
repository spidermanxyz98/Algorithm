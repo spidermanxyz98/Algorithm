{
 "cells": [
  {
   "cell_type": "code",
   "execution_count": 1,
   "metadata": {
    "collapsed": true
   },
   "outputs": [],
   "source": [
    "import urllib.request"
   ]
  },
  {
   "cell_type": "code",
   "execution_count": 2,
   "metadata": {
    "collapsed": true
   },
   "outputs": [],
   "source": [
    "target_url=\"https://d18ky98rnyall9.cloudfront.net/_fe8d0202cd20a808db6a4d5d06be62f4_clustering_big.txt?Expires=1483142400&Signature=crSq5TkiU2WVkDO-z-rzRXrD48~xff~5dsvuZVGKYed8gP1cAYVkUHpxr5Mulb-mboNnKCz2p8vjC~Se0HYTvuKe7-mxer-xU-WTgEONILlm7jglVmUGoJjDP34ptUxAziRJop0-TWqYTays2wHUrpBEVy4kkVkTbog5bLZGXKo_&Key-Pair-Id=APKAJLTNE6QMUY6HBC5A\"\n",
    "data=urllib.request.urlopen(target_url).read()\n",
    "file=open(\"input_2\",\"w\")\n",
    "file.write(str(data,\"utf-8\"))\n",
    "file.close()"
   ]
  },
  {
   "cell_type": "code",
   "execution_count": 3,
   "metadata": {
    "collapsed": true
   },
   "outputs": [],
   "source": [
    "def HammingDist(v1,v2):\n",
    "    if len(v1)!=len(v2):\n",
    "        raise ValueError(\"undified for sequence of unequal length\")\n",
    "    else:\n",
    "        return sum(el1 != el2 for el1, el2 in zip(v1,v2))"
   ]
  },
  {
   "cell_type": "code",
   "execution_count": 4,
   "metadata": {
    "collapsed": false
   },
   "outputs": [],
   "source": [
    "graph=[]\n",
    "with open(\"input_2\") as file:\n",
    "    for line in file.readlines()[1:]:\n",
    "        graph.append(line.strip().replace(\" \",\"\"))\n"
   ]
  },
  {
   "cell_type": "code",
   "execution_count": 5,
   "metadata": {
    "collapsed": false
   },
   "outputs": [],
   "source": [
    "#use the idea in the 2 sum problem. Here we want to find out pairs with distance =1 and 2. Form a hash table with key\n",
    "#the node bits and element the label of the node. loop through the nodes and check whether the element that differs by\n",
    "#1 or 2 is in the hash table.\n",
    "\n",
    "def diff_1(v):\n",
    "    candidates=[]\n",
    "    ori_elements=list(v)\n",
    "    for i in range(len(ori_elements)):\n",
    "        cand=ori_elements.copy()\n",
    "        if cand[i]==\"0\":\n",
    "            cand[i]=\"1\"\n",
    "        else:\n",
    "            cand[i]=\"0\"\n",
    "        \n",
    "        candidates.append(\"\".join(cand))\n",
    "    return candidates\n",
    "\n",
    "def diff_2(v):\n",
    "    candidates=[]\n",
    "    ori_elements=list(v)\n",
    "    for i in range(len(ori_elements)):\n",
    "        for j in range(i+1,len(ori_elements)):\n",
    "            cand=ori_elements.copy()\n",
    "            if cand[i]==\"0\":\n",
    "                cand[i]=\"1\"\n",
    "            else:\n",
    "                cand[i]=\"0\"\n",
    "            if cand[j]==\"0\":\n",
    "                cand[j]=\"1\"\n",
    "            else:\n",
    "                cand[j]=\"0\"\n",
    "            \n",
    "            candidates.append(\"\".join(cand))\n",
    "    return candidates\n",
    "\n",
    "def find(x,tree):\n",
    "    cache=[]\n",
    "    child=x\n",
    "    parent=tree[x]\n",
    "    \n",
    "    cache.append(child)\n",
    "    cache.append(parent)\n",
    "    \n",
    "    if parent==child:\n",
    "        return child\n",
    "    \n",
    "    cache.append(child)\n",
    "    cache.append(parent)\n",
    "    while parent != child:\n",
    "        child=parent\n",
    "        parent=tree[child]\n",
    "        cache.append(child)\n",
    "        \n",
    "    for item in cache:                  #path compression to speed up the algo\n",
    "        tree[item]=parent\n",
    "        \n",
    "    return parent\n",
    "\n",
    "def union(x,y,tree,rank):\n",
    "    parent_x=find(x,tree)\n",
    "    parent_y=find(y,tree)\n",
    "    if parent_x==parent_y:\n",
    "        pass\n",
    "    else:\n",
    "        if rank[parent_x]>rank[parent_y]:\n",
    "            tree[parent_y]=parent_x\n",
    "        else:\n",
    "            tree[parent_x]=parent_y\n",
    "            if rank[parent_x]==rank[parent_y]:\n",
    "                rank[parent_y]+=1"
   ]
  },
  {
   "cell_type": "code",
   "execution_count": 6,
   "metadata": {
    "collapsed": false
   },
   "outputs": [
    {
     "data": {
      "text/plain": [
       "28231"
      ]
     },
     "execution_count": 6,
     "metadata": {},
     "output_type": "execute_result"
    }
   ],
   "source": [
    "unique_graph=list(set(graph))\n",
    "graph_dict={}\n",
    "for i, node in enumerate(unique_graph):\n",
    "    graph_dict[node]=i\n",
    "\n",
    "node_diff_1=[]\n",
    "for i,node1 in enumerate(unique_graph):\n",
    "    candidate=diff_1(node1)\n",
    "    for node2 in candidate:\n",
    "        if node2 in graph_dict:\n",
    "            j=graph_dict[node2]\n",
    "            if j > i:                      #avoid counting the pair twice\n",
    "                node_diff_1.append((i, j))\n",
    "len(node_diff_1)\n",
    "            "
   ]
  },
  {
   "cell_type": "code",
   "execution_count": 7,
   "metadata": {
    "collapsed": false
   },
   "outputs": [
    {
     "data": {
      "text/plain": [
       "324937"
      ]
     },
     "execution_count": 7,
     "metadata": {},
     "output_type": "execute_result"
    }
   ],
   "source": [
    "node_diff_2=[]\n",
    "for i,node1 in enumerate(unique_graph):\n",
    "    candidate=diff_2(node1)\n",
    "    for node2 in candidate:\n",
    "        if node2 in graph_dict:\n",
    "            j=graph_dict[node2]\n",
    "            if j>i:\n",
    "                node_diff_2.append((i,j))\n",
    "len(node_diff_2)"
   ]
  },
  {
   "cell_type": "code",
   "execution_count": 8,
   "metadata": {
    "collapsed": false
   },
   "outputs": [
    {
     "data": {
      "text/plain": [
       "6118"
      ]
     },
     "execution_count": 8,
     "metadata": {},
     "output_type": "execute_result"
    }
   ],
   "source": [
    "N=len(unique_graph)                    #number of unique nodes\n",
    "node_pairs=node_diff_1+node_diff_2     #node pairs with cost smaller than 3 (1 and 2)\n",
    "\n",
    "tree=[]                                #initialize tree\n",
    "for i in range(N):\n",
    "    tree.append(i)\n",
    "rank=[0]*N                             #initialize rank\n",
    "\n",
    "count=0                                #keep track of the number of fusions\n",
    "for pair in node_pairs:\n",
    "    v1=pair[0]\n",
    "    v2=pair[1]\n",
    "    if find(v1,tree) != find(v2,tree):\n",
    "        union(v1,v2,tree,rank)\n",
    "        count+=1\n",
    "    \n",
    "N-count                                # number of the clusters"
   ]
  }
 ],
 "metadata": {
  "anaconda-cloud": {},
  "kernelspec": {
   "display_name": "Python [Root]",
   "language": "python",
   "name": "Python [Root]"
  },
  "language_info": {
   "codemirror_mode": {
    "name": "ipython",
    "version": 3
   },
   "file_extension": ".py",
   "mimetype": "text/x-python",
   "name": "python",
   "nbconvert_exporter": "python",
   "pygments_lexer": "ipython3",
   "version": "3.5.2"
  }
 },
 "nbformat": 4,
 "nbformat_minor": 0
}
