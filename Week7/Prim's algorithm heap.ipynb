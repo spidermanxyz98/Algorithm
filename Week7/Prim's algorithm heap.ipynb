{
 "cells": [
  {
   "cell_type": "code",
   "execution_count": 10,
   "metadata": {
    "collapsed": true
   },
   "outputs": [],
   "source": [
    "import heapq"
   ]
  },
  {
   "cell_type": "code",
   "execution_count": 11,
   "metadata": {
    "collapsed": false
   },
   "outputs": [],
   "source": [
    "graph={}\n",
    "with open(\"input_2\") as file:\n",
    "    for line in file.readlines()[1:]:\n",
    "        line=line.strip().split()\n",
    "        v1=int(line[0])\n",
    "        v2=int(line[1])\n",
    "        cost=int(line[2])\n",
    "        \n",
    "        if v1 in graph:\n",
    "            graph[v1].append((v2,cost))\n",
    "        else:\n",
    "            graph[v1]=[(v2,cost)]\n",
    "        if v2 in graph:\n",
    "            graph[v2].append((v1,cost))\n",
    "        else:\n",
    "            graph[v2]=[(v1,cost)]\n",
    "#graph"
   ]
  },
  {
   "cell_type": "code",
   "execution_count": 12,
   "metadata": {
    "collapsed": false
   },
   "outputs": [],
   "source": [
    "s=list(graph.keys()).pop()\n",
    "X={s}\n",
    "V=set(graph.keys())\n",
    "V.remove(s)"
   ]
  },
  {
   "cell_type": "code",
   "execution_count": null,
   "metadata": {
    "collapsed": true
   },
   "outputs": [],
   "source": [
    "heap=[]\n",
    "\n",
    "cost_min=100000\n",
    "for item in graph[s]:\n",
    "    if item[1]<cost_min:\n",
    "        cost_min=item[1]\n",
    "        v2=item[0]\n",
    "heap=[(cost_min,s,v2)]\n",
    "heapq.heapify(heap)\n",
    "\n",
    "while V:\n",
    "    (cost,v1,v2)=heapq.heappop(heap)\n",
    "    for item in graph[v2]:\n",
    "        if (item[0],v2,item[1]) in heap:\n",
    "            heapq.\n",
    "    \n",
    "    "
   ]
  }
 ],
 "metadata": {
  "anaconda-cloud": {},
  "kernelspec": {
   "display_name": "Python [Root]",
   "language": "python",
   "name": "Python [Root]"
  },
  "language_info": {
   "codemirror_mode": {
    "name": "ipython",
    "version": 3
   },
   "file_extension": ".py",
   "mimetype": "text/x-python",
   "name": "python",
   "nbconvert_exporter": "python",
   "pygments_lexer": "ipython3",
   "version": "3.5.2"
  }
 },
 "nbformat": 4,
 "nbformat_minor": 0
}
