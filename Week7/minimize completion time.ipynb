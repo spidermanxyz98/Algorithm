{
 "cells": [
  {
   "cell_type": "code",
   "execution_count": 30,
   "metadata": {
    "collapsed": true
   },
   "outputs": [],
   "source": [
    "import urllib.request\n",
    "import heapq_max"
   ]
  },
  {
   "cell_type": "code",
   "execution_count": 4,
   "metadata": {
    "collapsed": false
   },
   "outputs": [],
   "source": [
    "target_url=\"https://d3c33hcgiwev3.cloudfront.net/_642c2ce8f3abe387bdff636d708cdb26_jobs.txt?Expires=1482364800&Signature=BhVO4LWJTrJruudwDLldHvGmPgnVLbX9Q8QMp9dd0hI-r7jEQu~VEn33TPju3~wxQhKRb3w3PAh2RC3~YNqOMEECfyfieOSR9lBElMQWSha2R2-PSXFij6gGS2ssd0vkukVIE0cSgRjsLZ0Cmyh5C4kDEYY-EtqGcEvV0eC-rBU_&Key-Pair-Id=APKAJLTNE6QMUY6HBC5A\"\n",
    "data=urllib.request.urlopen(target_url).read()\n",
    "txt_file=open(\"input_1\",\"w\")\n",
    "txt_file.write(str(data,\"utf-8\"))\n",
    "txt_file.close()"
   ]
  },
  {
   "cell_type": "code",
   "execution_count": 58,
   "metadata": {
    "collapsed": false
   },
   "outputs": [],
   "source": [
    "f={}                                       #create a dictionary whose keys are scores\n",
    "with open(\"input_1\") as file:\n",
    "    for line in file.readlines()[1:]:\n",
    "        line=line.strip().split()          #remove \\n and split the string\n",
    "        w=int(line[0])\n",
    "        l=int(line[1])\n",
    "        score=w-l\n",
    "        if score in f:\n",
    "            f[score].append((w,l))\n",
    "        else:\n",
    "            f[score]=[(w,l)]      "
   ]
  },
  {
   "cell_type": "code",
   "execution_count": 72,
   "metadata": {
    "collapsed": false
   },
   "outputs": [],
   "source": [
    "score_list=[]\n",
    "\n",
    "for score in f:                           #sort the score with decsending order\n",
    "    score_list.append(score)\n",
    "score_list.sort(reverse=True)\n",
    "\n",
    "\n",
    "task_order=[]\n",
    "for score in score_list:\n",
    "    items=f[score].copy()\n",
    "    heapq_max.heapify_max(items)        #for tasks with the same score, use task weight to sort \n",
    "    \n",
    "    while items:\n",
    "        task_order.append(heapq_max.heappop_max(items))\n",
    "#task_order     "
   ]
  },
  {
   "cell_type": "code",
   "execution_count": 70,
   "metadata": {
    "collapsed": false
   },
   "outputs": [
    {
     "data": {
      "text/plain": [
       "69119377652"
      ]
     },
     "execution_count": 70,
     "metadata": {},
     "output_type": "execute_result"
    }
   ],
   "source": [
    "task_time=[]\n",
    "c_time=0\n",
    "for task in task_order:               #compute the completion time of each time\n",
    "    c_time+=task[1]\n",
    "    task_time.append((task[0],c_time))\n",
    "task_time\n",
    "    \n",
    "complete_time=0                      #compute the weighted completion time\n",
    "for item in task_time:\n",
    "    complete_time+=item[0]*item[1]\n",
    "complete_time"
   ]
  },
  {
   "cell_type": "code",
   "execution_count": null,
   "metadata": {
    "collapsed": true
   },
   "outputs": [],
   "source": []
  }
 ],
 "metadata": {
  "anaconda-cloud": {},
  "kernelspec": {
   "display_name": "Python [Root]",
   "language": "python",
   "name": "Python [Root]"
  },
  "language_info": {
   "codemirror_mode": {
    "name": "ipython",
    "version": 3
   },
   "file_extension": ".py",
   "mimetype": "text/x-python",
   "name": "python",
   "nbconvert_exporter": "python",
   "pygments_lexer": "ipython3",
   "version": "3.5.2"
  }
 },
 "nbformat": 4,
 "nbformat_minor": 0
}
