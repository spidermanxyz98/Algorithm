{
 "cells": [
  {
   "cell_type": "code",
   "execution_count": 1,
   "metadata": {
    "collapsed": true
   },
   "outputs": [],
   "source": [
    "import urllib.request"
   ]
  },
  {
   "cell_type": "code",
   "execution_count": 3,
   "metadata": {
    "collapsed": false
   },
   "outputs": [
    {
     "data": {
      "text/plain": [
       "<function TextIOWrapper.close>"
      ]
     },
     "execution_count": 3,
     "metadata": {},
     "output_type": "execute_result"
    }
   ],
   "source": [
    "target_url=\"https://d3c33hcgiwev3.cloudfront.net/_d4f3531eac1d289525141e95a2fea52f_edges.txt?Expires=1482451200&Signature=YxZBusw75T6OD7xdQ9PjLNygGkhARuXK6AifxwOwtEF2hE0-v-RzvcEMqJ1QpYhdp~4d6czcxva600olCMhx-OtpW1TZ52ftIODKptvZ3e3BIx0s4ANakFAEBkYo7ZT7CHMQRhliKIGy4wehC~MsgtWn9jZIZKIvaugLN1B9FEA_&Key-Pair-Id=APKAJLTNE6QMUY6HBC5A\"\n",
    "data=urllib.request.urlopen(target_url).read()\n",
    "file=open(\"input_2\",\"w\")\n",
    "file.write(str(data,\"utf-8\"))\n",
    "file.close"
   ]
  },
  {
   "cell_type": "code",
   "execution_count": 13,
   "metadata": {
    "collapsed": false
   },
   "outputs": [],
   "source": [
    "graph={}\n",
    "with open(\"input_2\") as file:\n",
    "    for line in file.readlines()[1:]:\n",
    "        line=line.strip().split()\n",
    "        v1=int(line[0])\n",
    "        v2=int(line[1])\n",
    "        cost=int(line[2])\n",
    "        \n",
    "        if v1 not in graph:\n",
    "            graph[v1]=[(v2,cost)]\n",
    "        else:\n",
    "            graph[v1].append((v2,cost))\n",
    "        if v2 not in graph:\n",
    "            graph[v2]=[(v1,cost)]\n",
    "        else:\n",
    "            graph[v2].append((v1,cost))\n",
    "        "
   ]
  },
  {
   "cell_type": "code",
   "execution_count": 27,
   "metadata": {
    "collapsed": false
   },
   "outputs": [
    {
     "data": {
      "text/plain": [
       "-3612829"
      ]
     },
     "execution_count": 27,
     "metadata": {},
     "output_type": "execute_result"
    }
   ],
   "source": [
    "s=list(graph.keys()).pop()\n",
    "X={s}\n",
    "V=set(graph.keys())\n",
    "V.remove(s)\n",
    "edges=[]\n",
    "\n",
    "while V:\n",
    "    min_edge_cost=100000\n",
    "    for v1 in X:\n",
    "        for item in graph[v1]:\n",
    "            v2=item[0]\n",
    "            cost=item[1]\n",
    "            \n",
    "            if (v2 in V) and (cost<min_edge_cost):\n",
    "                new_vertex_2=v2\n",
    "                new_vertex_1=v1\n",
    "                min_edge_cost=cost\n",
    "    \n",
    "    V.remove(new_vertex_2)\n",
    "    X.add(new_vertex_2)\n",
    "    edges.append((new_vertex_1,new_vertex_2,min_edge_cost))  #keep track of the tree edges\n",
    "                \n",
    "total_cost=0\n",
    "for edge in edges:\n",
    "    total_cost+=edge[2]\n",
    "total_cost"
   ]
  },
  {
   "cell_type": "code",
   "execution_count": null,
   "metadata": {
    "collapsed": true
   },
   "outputs": [],
   "source": []
  }
 ],
 "metadata": {
  "anaconda-cloud": {},
  "kernelspec": {
   "display_name": "Python [Root]",
   "language": "python",
   "name": "Python [Root]"
  },
  "language_info": {
   "codemirror_mode": {
    "name": "ipython",
    "version": 3
   },
   "file_extension": ".py",
   "mimetype": "text/x-python",
   "name": "python",
   "nbconvert_exporter": "python",
   "pygments_lexer": "ipython3",
   "version": "3.5.2"
  }
 },
 "nbformat": 4,
 "nbformat_minor": 0
}
