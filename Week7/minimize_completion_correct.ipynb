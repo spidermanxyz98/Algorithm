{
 "cells": [
  {
   "cell_type": "code",
   "execution_count": 10,
   "metadata": {
    "collapsed": false
   },
   "outputs": [
    {
     "data": {
      "text/plain": [
       "67311454237"
      ]
     },
     "execution_count": 10,
     "metadata": {},
     "output_type": "execute_result"
    }
   ],
   "source": [
    "f={}\n",
    "with open(\"input_1\") as file:\n",
    "    for line in file.readlines()[1:]:\n",
    "        line=line.strip().split()\n",
    "        w=int(line[0])\n",
    "        l=int(line[1])\n",
    "        score=w/l\n",
    "        \n",
    "        if score in f:\n",
    "            f[score].append((w,l))\n",
    "        else:\n",
    "            f[score]=[(w,l)]\n",
    "score_list=[]\n",
    "for score in f:\n",
    "    score_list.append(score)\n",
    "score_list.sort(reverse=True)\n",
    "\n",
    "task_order=[]\n",
    "for score in score_list:\n",
    "    items=f[score]\n",
    "    for item in items:\n",
    "        task_order.append(item)\n",
    "\n",
    "        \n",
    "task_complete=[]\n",
    "c_time=0\n",
    "for task in task_order:\n",
    "    c_time+=task[1]\n",
    "    task_complete.append((task[0],c_time))\n",
    "\n",
    "complete_time=0\n",
    "for task in task_complete:\n",
    "    complete_time+=task[0]*task[1]\n",
    "complete_time\n",
    "    "
   ]
  },
  {
   "cell_type": "code",
   "execution_count": null,
   "metadata": {
    "collapsed": true
   },
   "outputs": [],
   "source": []
  }
 ],
 "metadata": {
  "kernelspec": {
   "display_name": "Python [Root]",
   "language": "python",
   "name": "Python [Root]"
  },
  "language_info": {
   "codemirror_mode": {
    "name": "ipython",
    "version": 3
   },
   "file_extension": ".py",
   "mimetype": "text/x-python",
   "name": "python",
   "nbconvert_exporter": "python",
   "pygments_lexer": "ipython3",
   "version": "3.5.2"
  }
 },
 "nbformat": 4,
 "nbformat_minor": 0
}
