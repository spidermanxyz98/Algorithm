{
 "cells": [
  {
   "cell_type": "code",
   "execution_count": 2,
   "metadata": {
    "collapsed": true
   },
   "outputs": [],
   "source": [
    "#(key, frequency)\n",
    "test=[(1, 0.05), (2, 0.4), (3, 0.08), (4, 0.04),\n",
    "     (5, 0.1), (6, 0.1), (7, 0.23)]"
   ]
  },
  {
   "cell_type": "code",
   "execution_count": 13,
   "metadata": {
    "collapsed": false
   },
   "outputs": [],
   "source": [
    "def opt(elems):\n",
    "    n=len(elems)\n",
    "    c=[[0 for x in range(n)] for x in range(n)]\n",
    "    for i in range(n):\n",
    "        c[i][i]=test[i][1]\n",
    "    \n",
    "    for i in range(n-1):\n",
    "        p1=elems[i][1]\n",
    "        p2=elems[i+1][1]\n",
    "        \n",
    "        if p1+2*p2>=p2+2*p1:\n",
    "            c[i][i+1]=p2+2*p1\n",
    "        else:\n",
    "            c[i][i+1]=p1+2*p2\n",
    "    \n",
    "    for s in range(2,n):\n",
    "        for i in range(n-s):\n",
    "            mini=10\n",
    "            sum_p=sum([x[1] for x in elems[i:i+s+1]])\n",
    "            \n",
    "            for r in range(i+1,i+s):\n",
    "                if c[i][r-1]+c[r+1][i+s]<mini:\n",
    "                    mini=c[i][r-1]+c[r+1][i+s]\n",
    "                    \n",
    "            \n",
    "            c[i][i+s]=sum_p+mini\n",
    "            \n",
    "    return c\n",
    "            \n",
    "            \n",
    "          "
   ]
  },
  {
   "cell_type": "code",
   "execution_count": 15,
   "metadata": {
    "collapsed": false
   },
   "outputs": [
    {
     "data": {
      "text/plain": [
       "1.0"
      ]
     },
     "execution_count": 15,
     "metadata": {},
     "output_type": "execute_result"
    }
   ],
   "source": [
    "sum([x[1] for x in test ])\n",
    "    "
   ]
  },
  {
   "cell_type": "code",
   "execution_count": 14,
   "metadata": {
    "collapsed": false
   },
   "outputs": [
    {
     "data": {
      "text/plain": [
       "[[0.05, 0.5, 0.66, 0.78, 1.12, 1.4000000000000001, 2.1900000000000004],\n",
       " [0, 0.4, 0.56, 0.96, 1.2000000000000002, 1.5, 2.2300000000000004],\n",
       " [0, 0, 0.08, 0.16, 0.4, 0.5800000000000001, 1.1400000000000001],\n",
       " [0, 0, 0, 0.04, 0.18, 0.38, 0.8800000000000001],\n",
       " [0, 0, 0, 0, 0.1, 0.30000000000000004, 0.76],\n",
       " [0, 0, 0, 0, 0, 0.1, 0.43000000000000005],\n",
       " [0, 0, 0, 0, 0, 0, 0.23]]"
      ]
     },
     "execution_count": 14,
     "metadata": {},
     "output_type": "execute_result"
    }
   ],
   "source": [
    "opt(test)"
   ]
  },
  {
   "cell_type": "code",
   "execution_count": null,
   "metadata": {
    "collapsed": true
   },
   "outputs": [],
   "source": []
  }
 ],
 "metadata": {
  "kernelspec": {
   "display_name": "Python [Root]",
   "language": "python",
   "name": "Python [Root]"
  },
  "language_info": {
   "codemirror_mode": {
    "name": "ipython",
    "version": 3
   },
   "file_extension": ".py",
   "mimetype": "text/x-python",
   "name": "python",
   "nbconvert_exporter": "python",
   "pygments_lexer": "ipython3",
   "version": "3.5.2"
  }
 },
 "nbformat": 4,
 "nbformat_minor": 0
}
