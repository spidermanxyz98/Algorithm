{
 "cells": [
  {
   "cell_type": "code",
   "execution_count": 35,
   "metadata": {
    "collapsed": false
   },
   "outputs": [],
   "source": [
    "#Sequence alignment problem \n",
    "#recursion method\n",
    "a_gap=1\n",
    "a_mis=1\n",
    "def pen_1(str1, str2):\n",
    "    n1=len(str1)\n",
    "    n2=len(str2)\n",
    "    \n",
    "    if n1 == 0:\n",
    "        return n2*a_gap\n",
    "    elif n2 == 0:\n",
    "        return n1*a_gap\n",
    "    else:\n",
    "        if str1[-1]==str2[-1]:\n",
    "            return penalty(str1[:-1], str2[:-1])\n",
    "        else:\n",
    "            return min(penalty(str1[:-1], str2[:-1])+a_mis,\n",
    "                      penalty(str1[:-1], str2)+a_gap,\n",
    "                      penalty(str1, str2[:-1])+a_gap)\n",
    "        "
   ]
  },
  {
   "cell_type": "code",
   "execution_count": 41,
   "metadata": {
    "collapsed": true
   },
   "outputs": [],
   "source": [
    "#iterative method\n",
    "def pen_2(str1, str2):\n",
    "    n1=len(str1)\n",
    "    n2=len(str2)\n",
    "    \n",
    "    result=[[0 for x in range(n2+1)] for x in range(n1+1)]\n",
    "    \n",
    "    for i in range(n1+1):\n",
    "        result[i][0]=i*a_gap\n",
    "        \n",
    "    for j in range(n2+1):\n",
    "        result[0][j]=j*a_gap\n",
    "    \n",
    "    for i in range(1, n1+1):\n",
    "        for j in range(1, n2+1):\n",
    "            if str1[i-1]==str2[j-1]:\n",
    "                result[i][j]=result[i-1][j-1]\n",
    "            else:\n",
    "                result[i][j]=min(result[i-1][j-1]+a_gap,\n",
    "                               result[i-1][j]+a_mis,\n",
    "                               result[i][j-1]+a_mis)\n",
    "    return result[n1][n2]"
   ]
  },
  {
   "cell_type": "code",
   "execution_count": 47,
   "metadata": {
    "collapsed": false
   },
   "outputs": [
    {
     "name": "stdout",
     "output_type": "stream",
     "text": [
      "3\n",
      "3\n"
     ]
    }
   ],
   "source": [
    "t1='aple'\n",
    "t2='cppl'\n",
    "print(penalty(t1,t2))\n",
    "print(pen(t1,t2))"
   ]
  },
  {
   "cell_type": "code",
   "execution_count": 22,
   "metadata": {
    "collapsed": false
   },
   "outputs": [
    {
     "data": {
      "text/plain": [
       "[[0, 0], [0, 0], [0, 0]]"
      ]
     },
     "execution_count": 22,
     "metadata": {},
     "output_type": "execute_result"
    }
   ],
   "source": [
    "test=[[0 for x in range(2)] for x in range(3)]\n",
    "test"
   ]
  },
  {
   "cell_type": "code",
   "execution_count": 29,
   "metadata": {
    "collapsed": false
   },
   "outputs": [
    {
     "ename": "IndexError",
     "evalue": "list index out of range",
     "output_type": "error",
     "traceback": [
      "\u001b[1;31m---------------------------------------------------------------------------\u001b[0m",
      "\u001b[1;31mIndexError\u001b[0m                                Traceback (most recent call last)",
      "\u001b[1;32m<ipython-input-29-223630287988>\u001b[0m in \u001b[0;36m<module>\u001b[1;34m()\u001b[0m\n\u001b[1;32m----> 1\u001b[1;33m \u001b[0mtest\u001b[0m\u001b[1;33m[\u001b[0m\u001b[1;36m2\u001b[0m\u001b[1;33m]\u001b[0m\u001b[1;33m[\u001b[0m\u001b[1;36m2\u001b[0m\u001b[1;33m]\u001b[0m\u001b[1;33m\u001b[0m\u001b[0m\n\u001b[0m",
      "\u001b[1;31mIndexError\u001b[0m: list index out of range"
     ]
    }
   ],
   "source": []
  },
  {
   "cell_type": "code",
   "execution_count": null,
   "metadata": {
    "collapsed": true
   },
   "outputs": [],
   "source": []
  }
 ],
 "metadata": {
  "anaconda-cloud": {},
  "kernelspec": {
   "display_name": "Python [Root]",
   "language": "python",
   "name": "Python [Root]"
  },
  "language_info": {
   "codemirror_mode": {
    "name": "ipython",
    "version": 3
   },
   "file_extension": ".py",
   "mimetype": "text/x-python",
   "name": "python",
   "nbconvert_exporter": "python",
   "pygments_lexer": "ipython3",
   "version": "3.5.2"
  }
 },
 "nbformat": 4,
 "nbformat_minor": 0
}
