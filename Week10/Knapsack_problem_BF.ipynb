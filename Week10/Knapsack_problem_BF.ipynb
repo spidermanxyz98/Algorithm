{
 "cells": [
  {
   "cell_type": "code",
   "execution_count": 1,
   "metadata": {
    "collapsed": true
   },
   "outputs": [],
   "source": [
    "import urllib.request"
   ]
  },
  {
   "cell_type": "code",
   "execution_count": 4,
   "metadata": {
    "collapsed": false
   },
   "outputs": [],
   "source": [
    "target_url=\"https://d18ky98rnyall9.cloudfront.net/_6dfda29c18c77fd14511ba8964c2e265_knapsack1.txt?Expires=1484265600&Signature=HUNbwtMt8YXLIGUjF1ngkaHG-h-rGEwAyoCaoqPt8oXaCg147q3PM1PWTQMZ7NEu3hZr29xF-0rK6O3bPtRdkt2FQWPotcQGBygtk937HwXEr0VPBgYgqn-SSpQMSYvhhjp969jdczK7BxcEL6yEvWGNAR-Lr-~4jCGcjNMmObY_&Key-Pair-Id=APKAJLTNE6QMUY6HBC5A\"\n",
    "data=urllib.request.urlopen(target_url).read()\n",
    "file=open('input_1','w')\n",
    "file.write(str(data,'utf-8'))\n",
    "file.close()"
   ]
  },
  {
   "cell_type": "code",
   "execution_count": 21,
   "metadata": {
    "collapsed": false
   },
   "outputs": [
    {
     "name": "stdout",
     "output_type": "stream",
     "text": [
      "10000 100\n"
     ]
    }
   ],
   "source": [
    "with open('input_1') as f:\n",
    "    data=f.readlines()\n",
    "    (tt_w, n)=data[0].strip().split()\n",
    "    tt_w=int(tt_w)              #Knapsack weight\n",
    "    n=int(n)              #Total number of items\n",
    "    \n",
    "    items=[]\n",
    "    for line in data[1:]:\n",
    "        line=line.strip().split()\n",
    "        v=int(line[0])\n",
    "        w=int(line[1])\n",
    "        items.append((v,w))\n",
    "        \n",
    "print(tt_w, n)"
   ]
  },
  {
   "cell_type": "code",
   "execution_count": 22,
   "metadata": {
    "collapsed": false
   },
   "outputs": [
    {
     "data": {
      "text/plain": [
       "2493893.0"
      ]
     },
     "execution_count": 22,
     "metadata": {},
     "output_type": "execute_result"
    }
   ],
   "source": [
    "knapsack(items, tt_w, n)"
   ]
  },
  {
   "cell_type": "code",
   "execution_count": 19,
   "metadata": {
    "collapsed": false
   },
   "outputs": [],
   "source": [
    "import numpy as np\n",
    "\n",
    "def knapsack(item, tt_w, n):\n",
    "    v=np.zeros((n+1 ,tt_w+1))\n",
    "\n",
    "    for i in range(1,n+1):\n",
    "        for j in range(tt_w+1):\n",
    "            c1=v[i-1, j]\n",
    "        \n",
    "            w=item[i-1][1]\n",
    "            value=item[i-1][0]\n",
    "            if j-w < 0:\n",
    "                v[i, j]=c1\n",
    "            else:    \n",
    "                c2=v[i-1, j-w]+value\n",
    "                v[i, j]=max(c1,c2)\n",
    "            \n",
    "            \n",
    "    return v[n, tt_w]\n",
    "\n",
    "            "
   ]
  },
  {
   "cell_type": "code",
   "execution_count": 20,
   "metadata": {
    "collapsed": false
   },
   "outputs": [
    {
     "data": {
      "text/plain": [
       "8.0"
      ]
     },
     "execution_count": 20,
     "metadata": {},
     "output_type": "execute_result"
    }
   ],
   "source": [
    "test=[(2,3), (1,2), (3,2), (4,3)]\n",
    "n=4\n",
    "w=7\n",
    "knapsack(test, w, n)"
   ]
  },
  {
   "cell_type": "code",
   "execution_count": 7,
   "metadata": {
    "collapsed": false
   },
   "outputs": [
    {
     "data": {
      "text/plain": [
       "'100'"
      ]
     },
     "execution_count": 7,
     "metadata": {},
     "output_type": "execute_result"
    }
   ],
   "source": [
    "n"
   ]
  },
  {
   "cell_type": "code",
   "execution_count": null,
   "metadata": {
    "collapsed": true
   },
   "outputs": [],
   "source": []
  }
 ],
 "metadata": {
  "anaconda-cloud": {},
  "kernelspec": {
   "display_name": "Python [Root]",
   "language": "python",
   "name": "Python [Root]"
  },
  "language_info": {
   "codemirror_mode": {
    "name": "ipython",
    "version": 3
   },
   "file_extension": ".py",
   "mimetype": "text/x-python",
   "name": "python",
   "nbconvert_exporter": "python",
   "pygments_lexer": "ipython3",
   "version": "3.5.2"
  }
 },
 "nbformat": 4,
 "nbformat_minor": 0
}
