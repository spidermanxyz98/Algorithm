{
 "cells": [
  {
   "cell_type": "code",
   "execution_count": 188,
   "metadata": {
    "collapsed": false
   },
   "outputs": [],
   "source": [
    "from heapq import heappush, heappop, heapify\n",
    "from random import randrange\n",
    "import itertools\n",
    "import time"
   ]
  },
  {
   "cell_type": "code",
   "execution_count": 163,
   "metadata": {
    "collapsed": false
   },
   "outputs": [],
   "source": [
    "REMOVED='<removed-task>'\n",
    "def add_task(heap,entry_finder,priority, task, counter):\n",
    "    \"Add a new task or update the priority of a task\"\n",
    "    if task in entry_finder:\n",
    "        remove_task(heap,entry_finder,task)\n",
    "    count=next(counter)\n",
    "    entry=[priority, count, task]\n",
    "    entry_finder[task]=entry\n",
    "    heappush(heap, entry)\n",
    "    \n",
    "def remove_task(heap,entry_finder,task):\n",
    "    \"Mark as existing task as removed. Raise key error if not found\"\n",
    "    entry=entry_finder.pop(task)\n",
    "    heap[heap.index(entry)][-1]=REMOVED\n",
    "\n",
    "def pop_task(heap,entry_finder):\n",
    "    while heap:\n",
    "        priority, count, task=heappop(heap)\n",
    "        if task is not REMOVED:\n",
    "            del entry_finder[task]\n",
    "            return task\n",
    "    raise KeyError('pop from an empty priority queue')"
   ]
  },
  {
   "cell_type": "code",
   "execution_count": 178,
   "metadata": {
    "collapsed": false
   },
   "outputs": [],
   "source": [
    "def Dijkstra(G, s, counter):     #see that last cell for counter\n",
    "    dist={s:0}                   #the dictionary used to store the shortest distance\n",
    "    \n",
    "    pq=[]                        #priority Q (heap), use the shortest distance up to now\n",
    "                                 #as the key (priority) of the node. \n",
    "    entry_finder={}              #the dictionary to help find out the entry in pq according to\n",
    "                                 #the node name\n",
    "    \n",
    "    for v in range(len(G)):                  #initialize dist, pq and entry_finder. If v is connected to s\n",
    "        if v is not s:                       #set dis[v] as the path length, otherwise set it to infinity      \n",
    "            if v in G[s]:\n",
    "                dist[v]=G[s][v]\n",
    "                count=next(counter)\n",
    "                entry=[dist[v],count,v]\n",
    "                heappush(pq,entry)\n",
    "                entry_finder[v]=entry\n",
    "            else:\n",
    "                dist[v]=float('inf')\n",
    "                count=next(counter)\n",
    "                entry=[dist[v],count,v]\n",
    "                heappush(pq,entry)\n",
    "                entry_finder[v]=entry\n",
    "        else:\n",
    "            continue\n",
    "        \n",
    "    while entry_finder:\n",
    "        \n",
    "        v=pop_task(pq,entry_finder)                     #pop out the node with shortest parth to s from pq\n",
    "        \n",
    "        \n",
    "        \n",
    "        for w in G[v]:\n",
    "            if (w is not v) and (w in entry_finder):   #make sure w is v's neighbor not v itself and w is \n",
    "                \n",
    "                l=G[v][w]                              #still in the priority queue\n",
    "                if l+dist[v]<dist[w]:                    # if the newly added v changes the shortest path of its\n",
    "                    dist[w]=l+dist[v]                            # nieghbor w, then update dist[w] and the priority of w \n",
    "                    add_task(pq,entry_finder,dist[w],w,counter)  # in pq\n",
    "            else:\n",
    "                continue\n",
    "    return(dist)\n",
    "            "
   ]
  },
  {
   "cell_type": "code",
   "execution_count": 1,
   "metadata": {
    "collapsed": false
   },
   "outputs": [
    {
     "data": {
      "text/plain": [
       "[{0: 'self', 1: 1, 7: 2},\n",
       " {0: 1, 1: 'self', 2: 1},\n",
       " {1: 1, 2: 'self', 3: 1},\n",
       " {2: 1, 3: 'self', 4: 1},\n",
       " {3: 1, 4: 'self', 5: 1},\n",
       " {4: 1, 5: 'self', 6: 1},\n",
       " {5: 1, 6: 'self', 7: 1},\n",
       " {0: 2, 6: 1, 7: 'self'}]"
      ]
     },
     "execution_count": 1,
     "metadata": {},
     "output_type": "execute_result"
    }
   ],
   "source": [
    "####test program with a small graph\n",
    "with open(\"test1\") as file1:\n",
    "    graph=[]\n",
    "    for line in file1.readlines():\n",
    "        line=line.strip()\n",
    "        if line:\n",
    "            node_dic={}\n",
    "            line=line.split()\n",
    "            for i, temp in enumerate(line):\n",
    "                if i==0:\n",
    "                    node_dic[int(temp)-1]=\"self\"\n",
    "                else:\n",
    "                    node=int(temp.split(',')[0])-1\n",
    "                    distance=int(temp.split(',')[1])\n",
    "                    node_dic[node]=distance\n",
    "            graph.append(node_dic)\n",
    "\n",
    "#counter=itertools.count()\n",
    "#Dijkstra(graph,0,counter)\n",
    "graph"
   ]
  },
  {
   "cell_type": "code",
   "execution_count": 194,
   "metadata": {
    "collapsed": false
   },
   "outputs": [
    {
     "name": "stdout",
     "output_type": "stream",
     "text": [
      "time used: 0.029453277587890625\n",
      "{0: 0, 1: 2971, 2: 2644, 3: 3056, 4: 2525, 5: 2818, 6: 2599, 7: 1875, 8: 745, 9: 3205, 10: 1551, 11: 2906, 12: 2394, 13: 1803, 14: 2942, 15: 1837, 16: 3111, 17: 2284, 18: 1044, 19: 2351, 20: 3630, 21: 4028, 22: 2650, 23: 3653, 24: 2249, 25: 2150, 26: 1222, 27: 2090, 28: 3540, 29: 2303, 30: 3455, 31: 3004, 32: 2551, 33: 2656, 34: 998, 35: 2236, 36: 2610, 37: 3548, 38: 1851, 39: 4091, 40: 2732, 41: 2040, 42: 3312, 43: 2142, 44: 3438, 45: 2937, 46: 2979, 47: 2757, 48: 2437, 49: 3152, 50: 2503, 51: 2817, 52: 2420, 53: 3369, 54: 2862, 55: 2609, 56: 2857, 57: 3668, 58: 2947, 59: 2592, 60: 1676, 61: 2573, 62: 2498, 63: 2047, 64: 826, 65: 3393, 66: 2535, 67: 4636, 68: 3650, 69: 743, 70: 1265, 71: 1539, 72: 3007, 73: 4286, 74: 2720, 75: 3220, 76: 2298, 77: 2795, 78: 2806, 79: 982, 80: 2976, 81: 2052, 82: 3997, 83: 2656, 84: 1193, 85: 2461, 86: 1608, 87: 3046, 88: 3261, 89: 2018, 90: 2786, 91: 647, 92: 3542, 93: 3415, 94: 2186, 95: 2398, 96: 4248, 97: 3515, 98: 2367, 99: 2970, 100: 3536, 101: 2478, 102: 1826, 103: 2551, 104: 3368, 105: 2303, 106: 2540, 107: 1169, 108: 3140, 109: 2317, 110: 2535, 111: 1759, 112: 1899, 113: 508, 114: 2399, 115: 3513, 116: 2597, 117: 2176, 118: 1090, 119: 2328, 120: 2818, 121: 1306, 122: 2805, 123: 2057, 124: 2618, 125: 1694, 126: 3285, 127: 1203, 128: 676, 129: 1820, 130: 1445, 131: 2468, 132: 2029, 133: 1257, 134: 1533, 135: 2417, 136: 3599, 137: 2494, 138: 4101, 139: 546, 140: 1889, 141: 2616, 142: 2141, 143: 2359, 144: 648, 145: 2682, 146: 3464, 147: 2873, 148: 3109, 149: 2183, 150: 4159, 151: 1832, 152: 2080, 153: 1831, 154: 2001, 155: 3013, 156: 2143, 157: 1376, 158: 1627, 159: 2403, 160: 4772, 161: 2556, 162: 2124, 163: 1693, 164: 2442, 165: 3814, 166: 2630, 167: 2038, 168: 2776, 169: 1365, 170: 3929, 171: 1990, 172: 2069, 173: 3558, 174: 1432, 175: 2279, 176: 3829, 177: 2435, 178: 3691, 179: 3027, 180: 2345, 181: 3807, 182: 2145, 183: 2703, 184: 2884, 185: 3806, 186: 1151, 187: 2505, 188: 2340, 189: 2596, 190: 4123, 191: 1737, 192: 3136, 193: 1073, 194: 1707, 195: 2417, 196: 3068, 197: 1724, 198: 815, 199: 2060}\n"
     ]
    }
   ],
   "source": [
    "with open(\"input\") as file:\n",
    "    graph=[]\n",
    "    for line in file.readlines():\n",
    "        line=line.split()\n",
    "        node_dic={}\n",
    "        for i, temp in enumerate(line):\n",
    "            if i==0:\n",
    "                node_dic[int(temp)-1]=\"self\"\n",
    "            else:\n",
    "                node=int(temp.split(',')[0])-1\n",
    "                distance=int(temp.split(',')[1])\n",
    "                node_dic[node]=distance\n",
    "        graph.append(node_dic)    \n",
    "counter=itertools.count()\n",
    "start=time.time()\n",
    "result=Dijkstra(graph,0,counter)\n",
    "print(\"time used:\",time.time()-start)\n",
    "print(result)"
   ]
  },
  {
   "cell_type": "code",
   "execution_count": 192,
   "metadata": {
    "collapsed": false
   },
   "outputs": [
    {
     "ename": "TypeError",
     "evalue": "unorderable types: str() < int()",
     "output_type": "error",
     "traceback": [
      "\u001b[1;31m---------------------------------------------------------------------------\u001b[0m",
      "\u001b[1;31mTypeError\u001b[0m                                 Traceback (most recent call last)",
      "\u001b[1;32m<ipython-input-192-d05a670009e7>\u001b[0m in \u001b[0;36m<module>\u001b[1;34m()\u001b[0m\n\u001b[0;32m      5\u001b[0m \u001b[1;33m\u001b[0m\u001b[0m\n\u001b[0;32m      6\u001b[0m \u001b[0mtest\u001b[0m\u001b[1;33m=\u001b[0m\u001b[1;33m[\u001b[0m\u001b[1;33m[\u001b[0m\u001b[1;36m2\u001b[0m\u001b[1;33m,\u001b[0m\u001b[1;36m7\u001b[0m\u001b[1;33m]\u001b[0m\u001b[1;33m,\u001b[0m\u001b[1;33m[\u001b[0m\u001b[1;36m10000\u001b[0m\u001b[1;33m,\u001b[0m\u001b[1;34m'<removed-task>'\u001b[0m\u001b[1;33m]\u001b[0m\u001b[1;33m,\u001b[0m\u001b[1;33m[\u001b[0m\u001b[1;36m3\u001b[0m\u001b[1;33m,\u001b[0m\u001b[1;36m3\u001b[0m\u001b[1;33m]\u001b[0m\u001b[1;33m,\u001b[0m\u001b[1;33m[\u001b[0m\u001b[1;36m10000\u001b[0m\u001b[1;33m,\u001b[0m\u001b[1;36m4\u001b[0m\u001b[1;33m]\u001b[0m\u001b[1;33m]\u001b[0m\u001b[1;33m\u001b[0m\u001b[0m\n\u001b[1;32m----> 7\u001b[1;33m \u001b[0mheapify\u001b[0m\u001b[1;33m(\u001b[0m\u001b[0mtest\u001b[0m\u001b[1;33m)\u001b[0m\u001b[1;33m\u001b[0m\u001b[0m\n\u001b[0m",
      "\u001b[1;31mTypeError\u001b[0m: unorderable types: str() < int()"
     ]
    }
   ],
   "source": [
    "#####heap API try to compare the second element if the first one(key) is the same. This will cause problem in the following\n",
    "#####case (compare string \"<removed-task>\" with integer 4). Thus, we need to add one middle element using the counter.\n",
    "#####when the key are the same, the middle element will break the tie.\n",
    "#####more info can be found at https://docs.python.org/2/library/heapq.html\n",
    "\n",
    "test=[[2,7],[10000,'<removed-task>'],[3,3],[10000,4]]\n",
    "heapify(test)"
   ]
  },
  {
   "cell_type": "code",
   "execution_count": null,
   "metadata": {
    "collapsed": true
   },
   "outputs": [],
   "source": []
  }
 ],
 "metadata": {
  "anaconda-cloud": {},
  "kernelspec": {
   "display_name": "Python [Root]",
   "language": "python",
   "name": "Python [Root]"
  },
  "language_info": {
   "codemirror_mode": {
    "name": "ipython",
    "version": 3
   },
   "file_extension": ".py",
   "mimetype": "text/x-python",
   "name": "python",
   "nbconvert_exporter": "python",
   "pygments_lexer": "ipython3",
   "version": "3.5.2"
  }
 },
 "nbformat": 4,
 "nbformat_minor": 0
}
