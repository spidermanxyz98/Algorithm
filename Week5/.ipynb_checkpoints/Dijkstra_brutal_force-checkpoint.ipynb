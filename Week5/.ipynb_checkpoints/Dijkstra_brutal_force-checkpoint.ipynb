{
 "cells": [
  {
   "cell_type": "code",
   "execution_count": 1,
   "metadata": {
    "collapsed": true
   },
   "outputs": [],
   "source": [
    "import urllib.request"
   ]
  },
  {
   "cell_type": "code",
   "execution_count": 4,
   "metadata": {
    "collapsed": true
   },
   "outputs": [],
   "source": [
    "target_url=\"https://d3c33hcgiwev3.cloudfront.net/_dcf1d02570e57d23ab526b1e33ba6f12_dijkstraData.txt?Expires=1480636800&Signature=CzxLo382R4f~oL18uSOmOcccAhE6EKNAx0CR4Q~Z9VF8LiPW9q3wJIVPYH8SZKQo9qc~L~hgMY4pOuXOA9Wnxa~6~320ouEX5wpZEoPBibYKogRfVPtFBGal200xZCVGmQp2gQqo40JdtBBpeKh0lkpEWWOs5rKHbP7E6vGCnVw_&Key-Pair-Id=APKAJLTNE6QMUY6HBC5A\"\n",
    "\n",
    "data=urllib.request.urlopen(target_url).read()\n",
    "txt_file=open(\"input\",\"w\")\n",
    "txt_file.write(str(data,\"utf-8\"))\n",
    "txt_file.close()"
   ]
  },
  {
   "cell_type": "code",
   "execution_count": 3,
   "metadata": {
    "collapsed": false
   },
   "outputs": [],
   "source": [
    "with open(\"input\") as file:\n",
    "    ori_data=[]\n",
    "    for line in file.readlines():\n",
    "        line=line.split()\n",
    "        temp_list=[int(line[0])-1]\n",
    "        for temp in line[1:]:\n",
    "            node=int(temp.split(\",\")[0])-1\n",
    "            dis=int(temp.split(\",\")[1])\n",
    "            temp_list.append((node,dis))\n",
    "        ori_data.append(temp_list)\n",
    "            \n",
    "#ori_data[0]"
   ]
  },
  {
   "cell_type": "code",
   "execution_count": 4,
   "metadata": {
    "collapsed": true
   },
   "outputs": [],
   "source": [
    "def Dijkstra(G,s):\n",
    "    X=set([s])\n",
    "    V=set(list(range(len(G))))\n",
    "    dist={s:0}\n",
    "    \n",
    "    while V.difference(X):\n",
    "        l_min=10000000                                          #initialize the minimum distance\n",
    "        \n",
    "        for node in X:                                             #scan all the nodes in X\n",
    "            for outgoing in G[node][1:]:                           #check all the edges that cross \n",
    "                if (outgoing[0] not in X) and (dist[node]+ outgoing[1])<l_min:     #X and V-X \n",
    "                    l_min=dist[node]+outgoing[1]\n",
    "                    new_node=outgoing[0]\n",
    "                    \n",
    "        dist[new_node]=l_min\n",
    "        X.add(new_node)\n",
    "    return(dist)\n",
    "                    \n",
    "                \n",
    "            \n",
    "            \n",
    "        "
   ]
  },
  {
   "cell_type": "code",
   "execution_count": 5,
   "metadata": {
    "collapsed": false
   },
   "outputs": [],
   "source": [
    "result=Dijkstra(ori_data,0)"
   ]
  },
  {
   "cell_type": "code",
   "execution_count": 16,
   "metadata": {
    "collapsed": false
   },
   "outputs": [
    {
     "name": "stdout",
     "output_type": "stream",
     "text": [
      "[[0, (1, 1), (7, 2)], [1, (0, 1), (2, 1)], [2, (1, 1), (3, 1)], [3, (2, 1), (4, 1)], [4, (3, 1), (5, 1)], [5, (4, 1), (6, 1)], [6, (5, 1), (7, 1)], [7, (6, 1), (0, 2)]]\n"
     ]
    }
   ],
   "source": [
    "with open(\"test1\") as file1:\n",
    "    ori_data=[]\n",
    "    for line in file1.readlines():\n",
    "        line=line.strip()\n",
    "        if line:\n",
    "            line=line.split()\n",
    "            \n",
    "            temp_list=[int(line[0])-1]\n",
    "            for temp in line[1:]:\n",
    "                node=int(temp.split(\",\")[0])-1\n",
    "                dis=int(temp.split(\",\")[1])\n",
    "                temp_list.append((node,dis))\n",
    "            ori_data.append(temp_list)\n",
    "        \n",
    "\n",
    "print(ori_data)"
   ]
  },
  {
   "cell_type": "code",
   "execution_count": 18,
   "metadata": {
    "collapsed": false
   },
   "outputs": [
    {
     "data": {
      "text/plain": [
       "{0: 0, 1: 1, 2: 2, 3: 3, 4: 4, 5: 4, 6: 3, 7: 2}"
      ]
     },
     "execution_count": 18,
     "metadata": {},
     "output_type": "execute_result"
    }
   ],
   "source": [
    "result1=Dijkstra(ori_data,0)\n",
    "result1"
   ]
  },
  {
   "cell_type": "code",
   "execution_count": null,
   "metadata": {
    "collapsed": true
   },
   "outputs": [],
   "source": []
  }
 ],
 "metadata": {
  "anaconda-cloud": {},
  "kernelspec": {
   "display_name": "Python [Root]",
   "language": "python",
   "name": "Python [Root]"
  },
  "language_info": {
   "codemirror_mode": {
    "name": "ipython",
    "version": 3
   },
   "file_extension": ".py",
   "mimetype": "text/x-python",
   "name": "python",
   "nbconvert_exporter": "python",
   "pygments_lexer": "ipython3",
   "version": "3.5.2"
  }
 },
 "nbformat": 4,
 "nbformat_minor": 0
}
