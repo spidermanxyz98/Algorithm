{
 "cells": [
  {
   "cell_type": "code",
   "execution_count": 1,
   "metadata": {
    "collapsed": true
   },
   "outputs": [],
   "source": [
    "import urllib.request"
   ]
  },
  {
   "cell_type": "code",
   "execution_count": 4,
   "metadata": {
    "collapsed": true
   },
   "outputs": [],
   "source": [
    "target_url=\"https://d3c33hcgiwev3.cloudfront.net/_dcf1d02570e57d23ab526b1e33ba6f12_dijkstraData.txt?Expires=1480636800&Signature=CzxLo382R4f~oL18uSOmOcccAhE6EKNAx0CR4Q~Z9VF8LiPW9q3wJIVPYH8SZKQo9qc~L~hgMY4pOuXOA9Wnxa~6~320ouEX5wpZEoPBibYKogRfVPtFBGal200xZCVGmQp2gQqo40JdtBBpeKh0lkpEWWOs5rKHbP7E6vGCnVw_&Key-Pair-Id=APKAJLTNE6QMUY6HBC5A\"\n",
    "\n",
    "data=urllib.request.urlopen(target_url).read()\n",
    "txt_file=open(\"input\",\"w\")\n",
    "txt_file.write(str(data,\"utf-8\"))\n",
    "txt_file.close()"
   ]
  },
  {
   "cell_type": "code",
   "execution_count": 53,
   "metadata": {
    "collapsed": false
   },
   "outputs": [
    {
     "data": {
      "text/plain": [
       "[0,\n",
       " (79, 982),\n",
       " (162, 8164),\n",
       " (169, 2620),\n",
       " (144, 648),\n",
       " (199, 8021),\n",
       " (172, 2069),\n",
       " (91, 647),\n",
       " (25, 4122),\n",
       " (139, 546),\n",
       " (10, 1913),\n",
       " (159, 6461),\n",
       " (26, 7905),\n",
       " (39, 9047),\n",
       " (149, 2183),\n",
       " (60, 9146),\n",
       " (158, 7420),\n",
       " (197, 1724),\n",
       " (113, 508),\n",
       " (103, 6647),\n",
       " (29, 4612),\n",
       " (98, 2367),\n",
       " (137, 7896),\n",
       " (168, 8700),\n",
       " (48, 2437),\n",
       " (124, 2909),\n",
       " (116, 2597),\n",
       " (54, 6399)]"
      ]
     },
     "execution_count": 53,
     "metadata": {},
     "output_type": "execute_result"
    }
   ],
   "source": [
    "with open(\"input\") as file:\n",
    "    ori_data=[]\n",
    "    for line in file.readlines():\n",
    "        line=line.split()\n",
    "        temp_list=[int(line[0])-1]\n",
    "        for temp in line[1:]:\n",
    "            node=int(temp.split(\",\")[0])-1\n",
    "            dis=int(temp.split(\",\")[1])\n",
    "            temp_list.append((node,dis))\n",
    "        ori_data.append(temp_list)\n",
    "            \n",
    "ori_data[0]"
   ]
  },
  {
   "cell_type": "code",
   "execution_count": 77,
   "metadata": {
    "collapsed": true
   },
   "outputs": [],
   "source": [
    "def Dijkstra(G,s):\n",
    "    X=set([s])\n",
    "    V=set(list(range(len(G))))\n",
    "    dist={s:0}\n",
    "    \n",
    "    while V.difference(X):\n",
    "        l_min=10000000                                          #initialize the minimum distance\n",
    "        \n",
    "        for node in X:                                             #scan all the nodes in X\n",
    "            for outgoing in G[node][1:]:                           #check all the edges that cross \n",
    "                if (outgoing[0] not in X) and (dist[node]+ outgoing[1])<l_min:     #X and V-X \n",
    "                    l_min=dist[node]+outgoing[1]\n",
    "                    new_node=outgoing[0]\n",
    "                    \n",
    "        dist[new_node]=l_min\n",
    "        X.add(new_node)\n",
    "    return(dist)\n",
    "                    \n",
    "                \n",
    "            \n",
    "            \n",
    "        "
   ]
  },
  {
   "cell_type": "code",
   "execution_count": 80,
   "metadata": {
    "collapsed": false
   },
   "outputs": [],
   "source": [
    "result=Dijkstra(ori_data,0)"
   ]
  },
  {
   "cell_type": "code",
   "execution_count": null,
   "metadata": {
    "collapsed": true
   },
   "outputs": [],
   "source": []
  }
 ],
 "metadata": {
  "anaconda-cloud": {},
  "kernelspec": {
   "display_name": "Python [Root]",
   "language": "python",
   "name": "Python [Root]"
  },
  "language_info": {
   "codemirror_mode": {
    "name": "ipython",
    "version": 3
   },
   "file_extension": ".py",
   "mimetype": "text/x-python",
   "name": "python",
   "nbconvert_exporter": "python",
   "pygments_lexer": "ipython3",
   "version": "3.5.2"
  }
 },
 "nbformat": 4,
 "nbformat_minor": 0
}
