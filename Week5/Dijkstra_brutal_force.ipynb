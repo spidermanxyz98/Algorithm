{
 "cells": [
  {
   "cell_type": "code",
   "execution_count": 23,
   "metadata": {
    "collapsed": true
   },
   "outputs": [],
   "source": [
    "import urllib.request\n",
    "import time"
   ]
  },
  {
   "cell_type": "code",
   "execution_count": 4,
   "metadata": {
    "collapsed": true
   },
   "outputs": [],
   "source": [
    "target_url=\"https://d3c33hcgiwev3.cloudfront.net/_dcf1d02570e57d23ab526b1e33ba6f12_dijkstraData.txt?Expires=1480636800&Signature=CzxLo382R4f~oL18uSOmOcccAhE6EKNAx0CR4Q~Z9VF8LiPW9q3wJIVPYH8SZKQo9qc~L~hgMY4pOuXOA9Wnxa~6~320ouEX5wpZEoPBibYKogRfVPtFBGal200xZCVGmQp2gQqo40JdtBBpeKh0lkpEWWOs5rKHbP7E6vGCnVw_&Key-Pair-Id=APKAJLTNE6QMUY6HBC5A\"\n",
    "\n",
    "data=urllib.request.urlopen(target_url).read()\n",
    "txt_file=open(\"input\",\"w\")\n",
    "txt_file.write(str(data,\"utf-8\"))\n",
    "txt_file.close()"
   ]
  },
  {
   "cell_type": "code",
   "execution_count": 24,
   "metadata": {
    "collapsed": false
   },
   "outputs": [],
   "source": [
    "with open(\"input\") as file:\n",
    "    ori_data=[]\n",
    "    for line in file.readlines():\n",
    "        line=line.split()\n",
    "        temp_list=[int(line[0])-1]\n",
    "        for temp in line[1:]:\n",
    "            node=int(temp.split(\",\")[0])-1\n",
    "            dis=int(temp.split(\",\")[1])\n",
    "            temp_list.append((node,dis))\n",
    "        ori_data.append(temp_list)\n",
    "            \n",
    "#ori_data[0]"
   ]
  },
  {
   "cell_type": "code",
   "execution_count": 25,
   "metadata": {
    "collapsed": true
   },
   "outputs": [],
   "source": [
    "def Dijkstra(G,s):\n",
    "    X=set([s])\n",
    "    V=set(list(range(len(G))))\n",
    "    dist={s:0}\n",
    "    \n",
    "    while V.difference(X):\n",
    "        l_min=10000000                                          #initialize the minimum distance\n",
    "        \n",
    "        for node in X:                                             #scan all the nodes in X\n",
    "            for outgoing in G[node][1:]:                           #check all the edges that cross \n",
    "                if (outgoing[0] not in X) and (dist[node]+ outgoing[1])<l_min:     #X and V-X \n",
    "                    l_min=dist[node]+outgoing[1]\n",
    "                    new_node=outgoing[0]\n",
    "                    \n",
    "        dist[new_node]=l_min\n",
    "        X.add(new_node)\n",
    "    return(dist)\n",
    "                    \n",
    "                \n",
    "            \n",
    "            \n",
    "        "
   ]
  },
  {
   "cell_type": "code",
   "execution_count": 31,
   "metadata": {
    "collapsed": false
   },
   "outputs": [
    {
     "name": "stdout",
     "output_type": "stream",
     "text": [
      "0.10875797271728516\n",
      "{0: 0, 1: 2971, 2: 2644, 3: 3056, 4: 2525, 5: 2818, 6: 2599, 7: 1875, 8: 745, 9: 3205, 10: 1551, 11: 2906, 12: 2394, 13: 1803, 14: 2942, 15: 1837, 16: 3111, 17: 2284, 18: 1044, 19: 2351, 20: 3630, 21: 4028, 22: 2650, 23: 3653, 24: 2249, 25: 2150, 26: 1222, 27: 2090, 28: 3540, 29: 2303, 30: 3455, 31: 3004, 32: 2551, 33: 2656, 34: 998, 35: 2236, 36: 2610, 37: 3548, 38: 1851, 39: 4091, 40: 2732, 41: 2040, 42: 3312, 43: 2142, 44: 3438, 45: 2937, 46: 2979, 47: 2757, 48: 2437, 49: 3152, 50: 2503, 51: 2817, 52: 2420, 53: 3369, 54: 2862, 55: 2609, 56: 2857, 57: 3668, 58: 2947, 59: 2592, 60: 1676, 61: 2573, 62: 2498, 63: 2047, 64: 826, 65: 3393, 66: 2535, 67: 4636, 68: 3650, 69: 743, 70: 1265, 71: 1539, 72: 3007, 73: 4286, 74: 2720, 75: 3220, 76: 2298, 77: 2795, 78: 2806, 79: 982, 80: 2976, 81: 2052, 82: 3997, 83: 2656, 84: 1193, 85: 2461, 86: 1608, 87: 3046, 88: 3261, 89: 2018, 90: 2786, 91: 647, 92: 3542, 93: 3415, 94: 2186, 95: 2398, 96: 4248, 97: 3515, 98: 2367, 99: 2970, 100: 3536, 101: 2478, 102: 1826, 103: 2551, 104: 3368, 105: 2303, 106: 2540, 107: 1169, 108: 3140, 109: 2317, 110: 2535, 111: 1759, 112: 1899, 113: 508, 114: 2399, 115: 3513, 116: 2597, 117: 2176, 118: 1090, 119: 2328, 120: 2818, 121: 1306, 122: 2805, 123: 2057, 124: 2618, 125: 1694, 126: 3285, 127: 1203, 128: 676, 129: 1820, 130: 1445, 131: 2468, 132: 2029, 133: 1257, 134: 1533, 135: 2417, 136: 3599, 137: 2494, 138: 4101, 139: 546, 140: 1889, 141: 2616, 142: 2141, 143: 2359, 144: 648, 145: 2682, 146: 3464, 147: 2873, 148: 3109, 149: 2183, 150: 4159, 151: 1832, 152: 2080, 153: 1831, 154: 2001, 155: 3013, 156: 2143, 157: 1376, 158: 1627, 159: 2403, 160: 4772, 161: 2556, 162: 2124, 163: 1693, 164: 2442, 165: 3814, 166: 2630, 167: 2038, 168: 2776, 169: 1365, 170: 3929, 171: 1990, 172: 2069, 173: 3558, 174: 1432, 175: 2279, 176: 3829, 177: 2435, 178: 3691, 179: 3027, 180: 2345, 181: 3807, 182: 2145, 183: 2703, 184: 2884, 185: 3806, 186: 1151, 187: 2505, 188: 2340, 189: 2596, 190: 4123, 191: 1737, 192: 3136, 193: 1073, 194: 1707, 195: 2417, 196: 3068, 197: 1724, 198: 815, 199: 2060}\n"
     ]
    }
   ],
   "source": [
    "start=time.time()\n",
    "result=Dijkstra(ori_data,0)\n",
    "print(time.time()-start)\n",
    "print(result)"
   ]
  },
  {
   "cell_type": "code",
   "execution_count": 16,
   "metadata": {
    "collapsed": false
   },
   "outputs": [
    {
     "name": "stdout",
     "output_type": "stream",
     "text": [
      "[[0, (1, 1), (7, 2)], [1, (0, 1), (2, 1)], [2, (1, 1), (3, 1)], [3, (2, 1), (4, 1)], [4, (3, 1), (5, 1)], [5, (4, 1), (6, 1)], [6, (5, 1), (7, 1)], [7, (6, 1), (0, 2)]]\n"
     ]
    }
   ],
   "source": [
    "with open(\"test1\") as file1:\n",
    "    ori_data=[]\n",
    "    for line in file1.readlines():\n",
    "        line=line.strip()\n",
    "        if line:\n",
    "            line=line.split()\n",
    "            \n",
    "            temp_list=[int(line[0])-1]\n",
    "            for temp in line[1:]:\n",
    "                node=int(temp.split(\",\")[0])-1\n",
    "                dis=int(temp.split(\",\")[1])\n",
    "                temp_list.append((node,dis))\n",
    "            ori_data.append(temp_list)\n",
    "        \n",
    "\n",
    "print(ori_data)"
   ]
  },
  {
   "cell_type": "code",
   "execution_count": 18,
   "metadata": {
    "collapsed": false
   },
   "outputs": [
    {
     "data": {
      "text/plain": [
       "{0: 0, 1: 1, 2: 2, 3: 3, 4: 4, 5: 4, 6: 3, 7: 2}"
      ]
     },
     "execution_count": 18,
     "metadata": {},
     "output_type": "execute_result"
    }
   ],
   "source": [
    "result1=Dijkstra(ori_data,0)\n",
    "result1"
   ]
  },
  {
   "cell_type": "code",
   "execution_count": null,
   "metadata": {
    "collapsed": true
   },
   "outputs": [],
   "source": []
  }
 ],
 "metadata": {
  "anaconda-cloud": {},
  "kernelspec": {
   "display_name": "Python [Root]",
   "language": "python",
   "name": "Python [Root]"
  },
  "language_info": {
   "codemirror_mode": {
    "name": "ipython",
    "version": 3
   },
   "file_extension": ".py",
   "mimetype": "text/x-python",
   "name": "python",
   "nbconvert_exporter": "python",
   "pygments_lexer": "ipython3",
   "version": "3.5.2"
  }
 },
 "nbformat": 4,
 "nbformat_minor": 0
}
