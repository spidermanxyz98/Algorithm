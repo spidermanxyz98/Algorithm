{
 "cells": [
  {
   "cell_type": "code",
   "execution_count": 92,
   "metadata": {
    "collapsed": true
   },
   "outputs": [],
   "source": [
    "import time"
   ]
  },
  {
   "cell_type": "code",
   "execution_count": 91,
   "metadata": {
    "collapsed": false
   },
   "outputs": [],
   "source": [
    "def res_scc(ori_data):\n",
    "    res_scc={}\n",
    "    for temp in ori_data:\n",
    "        if temp[1] in res_scc:\n",
    "            res_scc[temp[1]].append(temp[0])\n",
    "        else:\n",
    "            res_scc[temp[1]]=[temp[0]]\n",
    "    return(res_scc)\n",
    "\n",
    "def ori_scc(ori_data):\n",
    "    ori_scc={}\n",
    "    for temp in ori_data:\n",
    "        if temp[0] in ori_scc:\n",
    "            ori_scc[temp[0]].append(temp[1])\n",
    "        else:\n",
    "            ori_scc[temp[0]]=[temp[1]]\n",
    "    return(ori_scc)\n",
    "\n",
    "def finish_time(res_graph, max_node):\n",
    "    \n",
    "    #visited keeps track of the visited nodes\n",
    "    visited=set()\n",
    "    \n",
    "    #clock is used to record finish time of each node\n",
    "    clock=0\n",
    "    \n",
    "    #finish_time_dic is used to store the finish time of \n",
    "    #each node. The key is the name of the node.\n",
    "    finish_time_dic={}\n",
    "    \n",
    "    \n",
    "    for i in range(max_node,-1,-1):\n",
    "\n",
    "        s=[i]                                    #s is the stack \n",
    "        while s:\n",
    "            \n",
    "            v=s.pop()                           #pop out the first element from the stack\n",
    "            if v not in visited:\n",
    "                s.append(v)                          #If it is the first time, we add the node back to the stack\n",
    "                \n",
    "                visited.add(v)                   #to remeber its position, so that we can get the finish time \n",
    "                if v in res_graph:               #make sure v has out going edge\n",
    "                    for w in res_graph[v]:\n",
    "                        if w not in visited:\n",
    "                            s.append(w)\n",
    "                        \n",
    "                        \n",
    "            else:                                #If it it the second time to see a node, then we assign\n",
    "                if v not in finish_time_dic:     #the finish time to it\n",
    "                    finish_time_dic[v]=clock\n",
    "                    clock+=1\n",
    "    return(finish_time_dic)\n",
    "    \n",
    "\n",
    "#This function switch the position of node and finish time in finish_time_dic\n",
    "#so that we can find out the correct order to do dfs\n",
    "def finish_time_to_node(finish_time_dic):\n",
    "    result={}\n",
    "    for temp in finish_time_dic:\n",
    "        result[finish_time_dic[temp]]=temp\n",
    "    return(result)                    "
   ]
  },
  {
   "cell_type": "code",
   "execution_count": 82,
   "metadata": {
    "collapsed": false
   },
   "outputs": [],
   "source": [
    "def SCC(ori_graph,node_order, max_node):\n",
    "    \n",
    "    visited=set()                                      #keep track of the visited nodes\n",
    "    scc_count_list=[]                                  #record the size of each scc \n",
    "    \n",
    "    \n",
    "    \n",
    "    \n",
    "    for i in range(max_node,-1,-1):  #start with the maximum finish time\n",
    "\n",
    "        start=node_order[i]                            #get the node name from finish time\n",
    "        s=[start]\n",
    "        \n",
    "        scc_count=0\n",
    "                                                       ################################################  \n",
    "        while s:                                       #If this while loop finishes with scc_count    #                                   \n",
    "            v=s.pop()                                 #greater than zero, then a new scc is discoverd#\n",
    "            if v not in visited:                       ################################################ \n",
    "                visited.add(v)\n",
    "                scc_count+=1                           #add 1 to scc_count if this is a new node\n",
    "                \n",
    "                if v in ori_graph:                     #v has outgoing edge\n",
    "                    for w in ori_graph[v]:\n",
    "                        if w not in visited:\n",
    "                            s.append(w)\n",
    "            else:                                      #if the node has been visited, we don't update\n",
    "                continue                               #scc_count \n",
    "        \n",
    "        if scc_count>0:\n",
    "            scc_count_list.append(scc_count)\n",
    "            \n",
    "    return(sorted(scc_count_list, reverse=True))"
   ]
  },
  {
   "cell_type": "code",
   "execution_count": 93,
   "metadata": {
    "collapsed": false
   },
   "outputs": [
    {
     "name": "stdout",
     "output_type": "stream",
     "text": [
      "time for reading: 22.379314184188843\n"
     ]
    }
   ],
   "source": [
    "start_time=time.time()\n",
    "with open(\"input\") as file:\n",
    "    ori_data=[]\n",
    "    for line in file:\n",
    "        line=line.split()\n",
    "        if line:\n",
    "            line=[int(x)-1 for x in line]\n",
    "            ori_data.append(line)\n",
    "            \n",
    "print(\"time for reading:\", time.time()-start_time)"
   ]
  },
  {
   "cell_type": "code",
   "execution_count": 94,
   "metadata": {
    "collapsed": false
   },
   "outputs": [
    {
     "name": "stdout",
     "output_type": "stream",
     "text": [
      "time for rearrange graph: 8.492944478988647\n"
     ]
    }
   ],
   "source": [
    "start_time=time.time()\n",
    "max_node=max(max(ori_data))\n",
    "res_graph=res_scc(ori_data)\n",
    "ori_graph=ori_scc(ori_data)\n",
    "print(\"time for rearrange graph:\", time.time()-start_time)"
   ]
  },
  {
   "cell_type": "code",
   "execution_count": 95,
   "metadata": {
    "collapsed": false
   },
   "outputs": [
    {
     "name": "stdout",
     "output_type": "stream",
     "text": [
      "time for finding scc: 7.792699337005615\n"
     ]
    }
   ],
   "source": [
    "start_time=time.time()\n",
    "finishtime=finish_time(res_graph,max_node)\n",
    "node_order=finish_time_to_node(finishtime)\n",
    "largest_5=SCC(ori_graph,node_order,max_node)[:5]\n",
    "print(\"time for finding scc:\", time.time()-start_time)"
   ]
  },
  {
   "cell_type": "code",
   "execution_count": 96,
   "metadata": {
    "collapsed": false
   },
   "outputs": [
    {
     "data": {
      "text/plain": [
       "[434821, 968, 459, 313, 211]"
      ]
     },
     "execution_count": 96,
     "metadata": {},
     "output_type": "execute_result"
    }
   ],
   "source": [
    "largest_5"
   ]
  },
  {
   "cell_type": "code",
   "execution_count": 100,
   "metadata": {
    "collapsed": false
   },
   "outputs": [
    {
     "name": "stdout",
     "output_type": "stream",
     "text": [
      "pop(0): 0.27497434616088867\n",
      "pop(): 0.0018649101257324219\n"
     ]
    }
   ],
   "source": [
    "#######test the speed of pop() and pop(0)######\n",
    "test=[1]*10000\n",
    "start_time=time.time()\n",
    "while test:\n",
    "    test.pop(0)\n",
    "print(\"pop(0):\",time.time()-start_time)\n",
    "\n",
    "test=[1]*10000\n",
    "start_time=time.time()\n",
    "while test:\n",
    "    test.pop()\n",
    "print(\"pop():\",time.time()-start_time)"
   ]
  },
  {
   "cell_type": "code",
   "execution_count": 102,
   "metadata": {
    "collapsed": false
   },
   "outputs": [
    {
     "name": "stdout",
     "output_type": "stream",
     "text": [
      "+: 0.2927091121673584\n",
      "append: 0.0016734600067138672\n"
     ]
    }
   ],
   "source": [
    "#######test the speed of + and append#######\n",
    "test=[]\n",
    "start_time=time.time()\n",
    "for temp in range(10000):\n",
    "    test=[temp]+test\n",
    "print(\"+:\",time.time()-start_time)\n",
    "\n",
    "test=[]\n",
    "start_time=time.time()\n",
    "for temp in range(10000):\n",
    "    test.append(temp)\n",
    "print(\"append:\",time.time()-start_time)"
   ]
  },
  {
   "cell_type": "code",
   "execution_count": 104,
   "metadata": {
    "collapsed": false
   },
   "outputs": [
    {
     "name": "stdout",
     "output_type": "stream",
     "text": [
      "time for set: 0.001596212387084961\n",
      "time for list: 2.6133556365966797\n"
     ]
    }
   ],
   "source": [
    "#######test the check speed of set and list#######\n",
    "test=set([1]*10000)\n",
    "start_time=time.time()\n",
    "for temp in range(10000):\n",
    "    if temp in test:\n",
    "        pass\n",
    "print(\"time for set:\", time.time()-start_time)\n",
    "\n",
    "test=[1]*10000\n",
    "start_time=time.time()\n",
    "for temp in range(10000):\n",
    "    if temp in test:\n",
    "        pass\n",
    "print(\"time for list:\", time.time()-start_time)"
   ]
  },
  {
   "cell_type": "code",
   "execution_count": null,
   "metadata": {
    "collapsed": true
   },
   "outputs": [],
   "source": []
  }
 ],
 "metadata": {
  "anaconda-cloud": {},
  "kernelspec": {
   "display_name": "Python [Root]",
   "language": "python",
   "name": "Python [Root]"
  },
  "language_info": {
   "codemirror_mode": {
    "name": "ipython",
    "version": 3
   },
   "file_extension": ".py",
   "mimetype": "text/x-python",
   "name": "python",
   "nbconvert_exporter": "python",
   "pygments_lexer": "ipython3",
   "version": "3.5.2"
  }
 },
 "nbformat": 4,
 "nbformat_minor": 0
}
