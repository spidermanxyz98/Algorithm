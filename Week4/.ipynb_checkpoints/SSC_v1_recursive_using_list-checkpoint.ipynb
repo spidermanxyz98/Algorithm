{
 "cells": [
  {
   "cell_type": "code",
   "execution_count": 2,
   "metadata": {
    "collapsed": true
   },
   "outputs": [],
   "source": [
    "import numpy as np\n",
    "from copy import deepcopy"
   ]
  },
  {
   "cell_type": "code",
   "execution_count": 3,
   "metadata": {
    "collapsed": false
   },
   "outputs": [],
   "source": [
    "#G is a directed graph and expressed using a list (length=n). Each element of the list is a np array\n",
    "#to store the tail of the edge. The head of the edge is the index number of the corresponding\n",
    "#np array. k is the start node. \n",
    "#visited is a np array with length n to label which node has been visited(1 for visited 0 for not visited)\n",
    "def explore(G,k):\n",
    "    n=len(G)\n",
    "    \n",
    "    \n",
    "    global visited    #used to label whether the node has been visited\n",
    "    global previsit   #previsit, postvisit and clock are used to \n",
    "    global postvisit  #memorize the visiting order of the nodes\n",
    "    global clock\n",
    "    \n",
    "    visited[k]=1\n",
    "    previsit[k]=clock\n",
    "    clock+=1\n",
    "    \n",
    "    for node in G[k]:\n",
    "        if visited[node]==0:\n",
    "            \n",
    "            explore(G,node)\n",
    "            \n",
    "    postvisit[k]=clock\n",
    "    clock+=1\n",
    "    \n",
    "def explore_2(G,k):\n",
    "    \n",
    "    global visited_2\n",
    "    global scc_count\n",
    "    \n",
    "    visited_2[k]=1\n",
    "    scc_count+=1\n",
    "    \n",
    "    for node in G[k]:\n",
    "        if visited_2[node]==0:\n",
    "            \n",
    "            explore_2(G,node)\n",
    "            \n",
    "    \n",
    "    "
   ]
  },
  {
   "cell_type": "code",
   "execution_count": 4,
   "metadata": {
    "collapsed": true
   },
   "outputs": [],
   "source": [
    "#input a directed graph G and return the reversed directed graph rG\n",
    "def reverse(G):\n",
    "    n=len(G)\n",
    "    rG=[np.asarray([],dtype=np.int32)]*n\n",
    "    \n",
    "    for i, item in enumerate(G):\n",
    "        #print(i,item)\n",
    "        for node in item:\n",
    "            #print(node)\n",
    "            rG[node]=np.append(rG[node],i)\n",
    "            #print(rG[node])\n",
    "    \n",
    "    return(rG)"
   ]
  },
  {
   "cell_type": "code",
   "execution_count": 5,
   "metadata": {
    "collapsed": true
   },
   "outputs": [],
   "source": [
    "#Find out the number of the strongly connenct components in a directed graph G\n",
    "\n",
    "#initialize previsit postvisit clock and visited label\n",
    "#previsit=np.zeros(n,dtype=np.int32)\n",
    "#postvisit=np.zeros(n,dtype=np.int32)\n",
    "#visited=np.zeros(n,dtype=np.int8)\n",
    "#clock=1\n",
    "\n",
    "def SCC(G):\n",
    "    n=len(G)\n",
    "    rG=reverse(G)\n",
    "    \n",
    "    for i in np.arange(n):\n",
    "        if visited[i]==0:\n",
    "            explore(rG, i)\n",
    "    \n",
    "    #print(\"pre:\",previsit)\n",
    "    #print(\"post:\",postvisit)\n",
    "    #print(visited)\n",
    "    postvisit_sort=np.sort(np.asarray(postvisit))[::-1]\n",
    "    #print(postvisit_sort)\n",
    "    #print(postvisit)\n",
    "    \n",
    "    #generate the correct order for DFS. Start from the node with the largest postvisit number\n",
    "    #in other words, it starts from the sink of the original graph G\n",
    "    order=[]\n",
    "    for i in np.arange(n):\n",
    "        (position,)=np.where(np.asarray(postvisit)==postvisit_sort[i])\n",
    "        #print(position[0])\n",
    "        order.append(position[0])\n",
    "        \n",
    "    \n",
    "    \n",
    "    #print(order)\n",
    "    #Do DFS in the sequence of the order\n",
    "    #scc_count_list is used to keep track of the size of each SCC\n",
    "    \n",
    "    scc_count_list=[]\n",
    "    global scc_count\n",
    "    for item in order:\n",
    "        if visited_2[item]==0:\n",
    "            #initialize the scc_count and run DFD inner loop\n",
    "            scc_count=0\n",
    "            explore_2(G,item)\n",
    "            scc_count_list.append(scc_count)\n",
    "            \n",
    "    return(scc_count_list)\n",
    "            \n",
    "        \n",
    "    \n",
    "    "
   ]
  },
  {
   "cell_type": "code",
   "execution_count": null,
   "metadata": {
    "collapsed": false
   },
   "outputs": [],
   "source": [
    "f=open('input','r')\n",
    "graph=f.readlines()\n",
    "f.close\n",
    "#eliminate the empty lines in the file\n",
    "graph=list(filter(None,[x.strip() for x in graph]))\n",
    "\n",
    "#split each line into node numbers and make the node number start\n",
    "#from zero\n",
    "\n",
    "for i in np.arange(len(graph)):\n",
    "    graph[i]=np.asarray([int(x) for x in graph[i].split(' ')])-1\n",
    "print(graph)\n",
    "\n",
    "#in the list graph, each element only represents one edge (two nodes)\n",
    "#we want to rearrange the list graph, so that in each element the first\n",
    "#subelement is the head node and all the rest are the tails\n",
    "#the new graph is stored in result\n",
    "result=[]\n",
    "\n",
    "#label is used to remember which node has been visited\n",
    "label=np.zeros(len(graph), dtype=np.int8)\n",
    "\n",
    "for i in np.arange(len(graph)):\n",
    "    \n",
    "    if label[i]==0:\n",
    "        collect=graph[i]\n",
    "        label[i]=1\n",
    "        \n",
    "        for j in np.arange(i+1,len(graph)):\n",
    "            \n",
    "            if graph[j][0]==graph[i][0]:\n",
    "                collect=np.concatenate([collect,graph[j][1:]])\n",
    "                label[j]=1\n",
    "    #it seems that we need to keep if else statement complete\n",
    "    else:\n",
    "        continue\n",
    "                \n",
    "    result.append(collect)\n",
    "    \n",
    "print(len(result))\n",
    "\n"
   ]
  },
  {
   "cell_type": "code",
   "execution_count": 23,
   "metadata": {
    "collapsed": false
   },
   "outputs": [
    {
     "data": {
      "text/plain": [
       "[6, 2, 3, 1]"
      ]
     },
     "execution_count": 23,
     "metadata": {},
     "output_type": "execute_result"
    }
   ],
   "source": [
    "graph_5=[np.array([1]),np.array([2,3,4]), np.array([5]), np.array([4,6]), np.array([1,5,6]),\n",
    "        np.array([2,7]), np.array([7,9]), np.array([6]), np.array([6]), np.array([8,10]), np.array([11]),\n",
    "        np.array([9])]\n",
    "\n",
    "previsit=np.zeros(12, dtype=np.int32)\n",
    "postvisit=np.zeros(12, dtype=np.int32)\n",
    "clock=1\n",
    "visited=np.zeros(12, dtype=np.int8)\n",
    "visited_2=np.zeros(12, dtype=np.int8)\n",
    "scc_count=0\n",
    "\n",
    "SCC(graph_5)"
   ]
  },
  {
   "cell_type": "code",
   "execution_count": 41,
   "metadata": {
    "collapsed": false
   },
   "outputs": [],
   "source": [
    "#used for reading the txt file directly from the URL\n",
    "import urllib.request\n",
    "\n",
    "target_url=\"https://d3c33hcgiwev3.cloudfront.net/_410e934e6553ac56409b2cb7096a44aa_SCC.txt?Expires=1480204800&Signature=RGSWvpaow-kqCwOTVYG5CURagaL1eK3MwZSCwS6Z-tcGFwv5z9rcWfCAzJaghyThESGvtPqIL4G7IBJ8oQUgDfWYyIf~~dR8dfNP91LNv5BK~47igyFrTr9bvzNo0T5X4zaSQf8mpa36ew~w5dqKkmxqJ6fKS44FYD82KEdLdIc_&Key-Pair-Id=APKAJLTNE6QMUY6HBC5A\"\n",
    "data=urllib.request.urlopen(target_url).read()\n",
    "\n",
    "\n",
    "#print(data)\n",
    "txt_file=open(\"input\",\"w\")\n",
    "txt_file.write(str(data,\"utf-8\"))\n",
    "txt_file.close()\n"
   ]
  },
  {
   "cell_type": "code",
   "execution_count": 186,
   "metadata": {
    "collapsed": false
   },
   "outputs": [
    {
     "data": {
      "text/plain": [
       "[2, 3, 3]"
      ]
     },
     "execution_count": 186,
     "metadata": {},
     "output_type": "execute_result"
    }
   ],
   "source": [
    "previsit=np.zeros(n, dtype=np.int32)\n",
    "postvisit=np.zeros(n, dtype=np.int32)\n",
    "clock=1\n",
    "visited=np.zeros(n, dtype=np.int8)\n",
    "visited_2=np.zeros(n, dtype=np.int8)\n",
    "scc_count=0\n",
    "\n",
    "SCC(graph)"
   ]
  },
  {
   "cell_type": "code",
   "execution_count": 161,
   "metadata": {
    "collapsed": true
   },
   "outputs": [],
   "source": [
    "G=[np.array([1,2,4]),np.array([5]), np.array([1,3]), np.array([1,5]), np.array([]), np.array([])]\n",
    "previsit=np.zeros(6, dtype=np.int32)\n",
    "postvisit=np.zeros(6, dtype=np.int32)\n",
    "clock=1\n",
    "visited=np.zeros(6, dtype=np.int8)\n",
    "visited_2=np.zeros(6, dtype=np.int8)\n",
    "scc_count=0"
   ]
  },
  {
   "cell_type": "code",
   "execution_count": 162,
   "metadata": {
    "collapsed": false
   },
   "outputs": [
    {
     "name": "stdout",
     "output_type": "stream",
     "text": [
      "[5, 4, 1, 3, 2, 0]\n",
      "1\n",
      "[1 1 1 1 1 1]\n"
     ]
    }
   ],
   "source": [
    "SCC(G)\n",
    "print(scc_count)\n",
    "print(visited_2)"
   ]
  },
  {
   "cell_type": "code",
   "execution_count": 120,
   "metadata": {
    "collapsed": false
   },
   "outputs": [
    {
     "data": {
      "text/plain": [
       "array([1, 1, 1, 1, 1, 1], dtype=int8)"
      ]
     },
     "execution_count": 120,
     "metadata": {},
     "output_type": "execute_result"
    }
   ],
   "source": [
    "explore(G,0)\n",
    "visited"
   ]
  },
  {
   "cell_type": "code",
   "execution_count": 85,
   "metadata": {
    "collapsed": false
   },
   "outputs": [
    {
     "data": {
      "text/plain": [
       "array([ 1,  2,  6,  7, 10,  3], dtype=int32)"
      ]
     },
     "execution_count": 85,
     "metadata": {},
     "output_type": "execute_result"
    }
   ],
   "source": [
    "previsit"
   ]
  },
  {
   "cell_type": "code",
   "execution_count": 86,
   "metadata": {
    "collapsed": false
   },
   "outputs": [
    {
     "data": {
      "text/plain": [
       "array([12,  5,  9,  8, 11,  4], dtype=int32)"
      ]
     },
     "execution_count": 86,
     "metadata": {},
     "output_type": "execute_result"
    }
   ],
   "source": [
    "postvisit"
   ]
  },
  {
   "cell_type": "code",
   "execution_count": null,
   "metadata": {
    "collapsed": true
   },
   "outputs": [],
   "source": []
  }
 ],
 "metadata": {
  "anaconda-cloud": {},
  "kernelspec": {
   "display_name": "Python [Root]",
   "language": "python",
   "name": "Python [Root]"
  },
  "language_info": {
   "codemirror_mode": {
    "name": "ipython",
    "version": 3
   },
   "file_extension": ".py",
   "mimetype": "text/x-python",
   "name": "python",
   "nbconvert_exporter": "python",
   "pygments_lexer": "ipython3",
   "version": "3.5.2"
  }
 },
 "nbformat": 4,
 "nbformat_minor": 0
}
