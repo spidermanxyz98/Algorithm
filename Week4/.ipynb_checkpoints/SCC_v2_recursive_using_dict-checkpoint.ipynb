{
 "cells": [
  {
   "cell_type": "code",
   "execution_count": 34,
   "metadata": {
    "collapsed": true
   },
   "outputs": [],
   "source": [
    "import numpy as np"
   ]
  },
  {
   "cell_type": "code",
   "execution_count": 180,
   "metadata": {
    "collapsed": false
   },
   "outputs": [],
   "source": [
    "####read the file and store it in a list called ori_data\n",
    "with open(\"input\") as file:\n",
    "    ori_data=[]\n",
    "    for line in file:\n",
    "        line=line.split()\n",
    "        if line:\n",
    "            line=[int(x)-1 for x in line]\n",
    "            ori_data.append(line)\n",
    "#ori_data"
   ]
  },
  {
   "cell_type": "code",
   "execution_count": 181,
   "metadata": {
    "collapsed": false
   },
   "outputs": [],
   "source": [
    "####compute the reversed graph\n",
    "####use dictionary to describe the directed graph.\n",
    "####the key is the head, and the elements in the list\n",
    "####are the tails\n",
    "revscc_dic={}\n",
    "for temp in ori_data:\n",
    "    if temp[1] not in revscc_dic:\n",
    "        revscc_dic[temp[1]]=[temp[0]]\n",
    "    else:\n",
    "        revscc_dic[temp[1]].append(temp[0])\n",
    "#revscc_dic\n",
    "\n",
    "####computer the original graph\n",
    "scc_dic={}\n",
    "for temp in ori_data:\n",
    "    if temp[0] not in scc_dic:\n",
    "        scc_dic[temp[0]]=[temp[1]]\n",
    "    else:\n",
    "        scc_dic[temp[0]].append(temp[1])\n",
    "#scc_dic\n",
    "        "
   ]
  },
  {
   "cell_type": "code",
   "execution_count": 182,
   "metadata": {
    "collapsed": true
   },
   "outputs": [],
   "source": [
    "def explore(G,k):\n",
    "    global visited\n",
    "    global previsit\n",
    "    global postvisit\n",
    "    global clock\n",
    "    \n",
    "    visited[k]=True\n",
    "    previsit[k]=clock\n",
    "    clock+=1\n",
    "    \n",
    "    #make sure there is edge start from node k\n",
    "    if k in G:\n",
    "        for node in G[k]:\n",
    "            if visited[node]==False:\n",
    "                explore(G, node)\n",
    "            \n",
    "        postvisit[k]=clock\n",
    "        clock+=1\n",
    "    else:\n",
    "        pass\n",
    "\n",
    "def explore_2(G,k):\n",
    "    global visited_2\n",
    "    global scc_count\n",
    "    \n",
    "    visited_2[k]=1\n",
    "    scc_count+=1\n",
    "    \n",
    "    if k in G:\n",
    "        for node in G[k]:\n",
    "            if visited_2[node]==False:\n",
    "                explore_2(G,node)\n",
    "    else:\n",
    "        pass"
   ]
  },
  {
   "cell_type": "code",
   "execution_count": 183,
   "metadata": {
    "collapsed": false
   },
   "outputs": [],
   "source": [
    "def SCC(scc_dic, revscc_dic, num_nodes):\n",
    "    for node in revscc_dic:\n",
    "        if visited[node]==False:\n",
    "            explore(revscc_dic, node)\n",
    "            \n",
    "    #Sort the finishing time in descending order\n",
    "    postvisit_sort=np.sort(postvisit)[::-1]\n",
    "    \n",
    "    #Create the correct order to do DFS of scc_dic\n",
    "    order=[]\n",
    "    for i in np.arange(num_nodes):\n",
    "        (position,)=np.where(postvisit==postvisit_sort[i])\n",
    "        order.append(position[0])\n",
    "        \n",
    "    \n",
    "    scc_count_list=[]\n",
    "    global scc_count\n",
    "    \n",
    "    #Do DFS in the original graph using the correct order\n",
    "    for node in order:\n",
    "        if visited_2[node]==False:\n",
    "            scc_count=0\n",
    "            explore_2(scc_dic,node)\n",
    "            scc_count_list.append(scc_count)\n",
    "            \n",
    "    return(scc_count_list)"
   ]
  },
  {
   "cell_type": "code",
   "execution_count": 184,
   "metadata": {
    "collapsed": false
   },
   "outputs": [
    {
     "ename": "RecursionError",
     "evalue": "maximum recursion depth exceeded in comparison",
     "output_type": "error",
     "traceback": [
      "\u001b[1;31m---------------------------------------------------------------------------\u001b[0m",
      "\u001b[1;31mRecursionError\u001b[0m                            Traceback (most recent call last)",
      "\u001b[1;32m<ipython-input-184-c2025ce851e6>\u001b[0m in \u001b[0;36m<module>\u001b[1;34m()\u001b[0m\n\u001b[0;32m     10\u001b[0m \u001b[0mclock\u001b[0m\u001b[1;33m=\u001b[0m\u001b[1;36m1\u001b[0m\u001b[1;33m\u001b[0m\u001b[0m\n\u001b[0;32m     11\u001b[0m \u001b[0mscc_count\u001b[0m\u001b[1;33m=\u001b[0m\u001b[1;36m0\u001b[0m\u001b[1;33m\u001b[0m\u001b[0m\n\u001b[1;32m---> 12\u001b[1;33m \u001b[0mSCC\u001b[0m\u001b[1;33m(\u001b[0m\u001b[0mscc_dic\u001b[0m\u001b[1;33m,\u001b[0m \u001b[0mrevscc_dic\u001b[0m\u001b[1;33m,\u001b[0m \u001b[0mnum_nodes\u001b[0m\u001b[1;33m)\u001b[0m\u001b[1;33m\u001b[0m\u001b[0m\n\u001b[0m",
      "\u001b[1;32m<ipython-input-183-1cdfcbd65785>\u001b[0m in \u001b[0;36mSCC\u001b[1;34m(scc_dic, revscc_dic, num_nodes)\u001b[0m\n\u001b[0;32m      2\u001b[0m     \u001b[1;32mfor\u001b[0m \u001b[0mnode\u001b[0m \u001b[1;32min\u001b[0m \u001b[0mrevscc_dic\u001b[0m\u001b[1;33m:\u001b[0m\u001b[1;33m\u001b[0m\u001b[0m\n\u001b[0;32m      3\u001b[0m         \u001b[1;32mif\u001b[0m \u001b[0mvisited\u001b[0m\u001b[1;33m[\u001b[0m\u001b[0mnode\u001b[0m\u001b[1;33m]\u001b[0m\u001b[1;33m==\u001b[0m\u001b[1;32mFalse\u001b[0m\u001b[1;33m:\u001b[0m\u001b[1;33m\u001b[0m\u001b[0m\n\u001b[1;32m----> 4\u001b[1;33m             \u001b[0mexplore\u001b[0m\u001b[1;33m(\u001b[0m\u001b[0mrevscc_dic\u001b[0m\u001b[1;33m,\u001b[0m \u001b[0mnode\u001b[0m\u001b[1;33m)\u001b[0m\u001b[1;33m\u001b[0m\u001b[0m\n\u001b[0m\u001b[0;32m      5\u001b[0m \u001b[1;33m\u001b[0m\u001b[0m\n\u001b[0;32m      6\u001b[0m     \u001b[1;31m#Sort the finishing time in descending order\u001b[0m\u001b[1;33m\u001b[0m\u001b[1;33m\u001b[0m\u001b[0m\n",
      "\u001b[1;32m<ipython-input-182-5a8ff9dd3d7b>\u001b[0m in \u001b[0;36mexplore\u001b[1;34m(G, k)\u001b[0m\n\u001b[0;32m     13\u001b[0m         \u001b[1;32mfor\u001b[0m \u001b[0mnode\u001b[0m \u001b[1;32min\u001b[0m \u001b[0mG\u001b[0m\u001b[1;33m[\u001b[0m\u001b[0mk\u001b[0m\u001b[1;33m]\u001b[0m\u001b[1;33m:\u001b[0m\u001b[1;33m\u001b[0m\u001b[0m\n\u001b[0;32m     14\u001b[0m             \u001b[1;32mif\u001b[0m \u001b[0mvisited\u001b[0m\u001b[1;33m[\u001b[0m\u001b[0mnode\u001b[0m\u001b[1;33m]\u001b[0m\u001b[1;33m==\u001b[0m\u001b[1;32mFalse\u001b[0m\u001b[1;33m:\u001b[0m\u001b[1;33m\u001b[0m\u001b[0m\n\u001b[1;32m---> 15\u001b[1;33m                 \u001b[0mexplore\u001b[0m\u001b[1;33m(\u001b[0m\u001b[0mG\u001b[0m\u001b[1;33m,\u001b[0m \u001b[0mnode\u001b[0m\u001b[1;33m)\u001b[0m\u001b[1;33m\u001b[0m\u001b[0m\n\u001b[0m\u001b[0;32m     16\u001b[0m \u001b[1;33m\u001b[0m\u001b[0m\n\u001b[0;32m     17\u001b[0m         \u001b[0mpostvisit\u001b[0m\u001b[1;33m[\u001b[0m\u001b[0mk\u001b[0m\u001b[1;33m]\u001b[0m\u001b[1;33m=\u001b[0m\u001b[0mclock\u001b[0m\u001b[1;33m\u001b[0m\u001b[0m\n",
      "... last 1 frames repeated, from the frame below ...\n",
      "\u001b[1;32m<ipython-input-182-5a8ff9dd3d7b>\u001b[0m in \u001b[0;36mexplore\u001b[1;34m(G, k)\u001b[0m\n\u001b[0;32m     13\u001b[0m         \u001b[1;32mfor\u001b[0m \u001b[0mnode\u001b[0m \u001b[1;32min\u001b[0m \u001b[0mG\u001b[0m\u001b[1;33m[\u001b[0m\u001b[0mk\u001b[0m\u001b[1;33m]\u001b[0m\u001b[1;33m:\u001b[0m\u001b[1;33m\u001b[0m\u001b[0m\n\u001b[0;32m     14\u001b[0m             \u001b[1;32mif\u001b[0m \u001b[0mvisited\u001b[0m\u001b[1;33m[\u001b[0m\u001b[0mnode\u001b[0m\u001b[1;33m]\u001b[0m\u001b[1;33m==\u001b[0m\u001b[1;32mFalse\u001b[0m\u001b[1;33m:\u001b[0m\u001b[1;33m\u001b[0m\u001b[0m\n\u001b[1;32m---> 15\u001b[1;33m                 \u001b[0mexplore\u001b[0m\u001b[1;33m(\u001b[0m\u001b[0mG\u001b[0m\u001b[1;33m,\u001b[0m \u001b[0mnode\u001b[0m\u001b[1;33m)\u001b[0m\u001b[1;33m\u001b[0m\u001b[0m\n\u001b[0m\u001b[0;32m     16\u001b[0m \u001b[1;33m\u001b[0m\u001b[0m\n\u001b[0;32m     17\u001b[0m         \u001b[0mpostvisit\u001b[0m\u001b[1;33m[\u001b[0m\u001b[0mk\u001b[0m\u001b[1;33m]\u001b[0m\u001b[1;33m=\u001b[0m\u001b[0mclock\u001b[0m\u001b[1;33m\u001b[0m\u001b[0m\n",
      "\u001b[1;31mRecursionError\u001b[0m: maximum recursion depth exceeded in comparison"
     ]
    }
   ],
   "source": [
    "####Using max(max()) to find the number of nodes is not\n",
    "####always true. It depends on the input data. But this\n",
    "####should work for our data.\n",
    "\n",
    "num_nodes=max(max(ori_data))+1\n",
    "visited=[False]*num_nodes\n",
    "visited_2=[False]*num_nodes\n",
    "previsit=np.zeros(num_nodes, dtype=np.int32)\n",
    "postvisit=np.zeros(num_nodes, dtype=np.int32)\n",
    "clock=1\n",
    "scc_count=0\n",
    "SCC(scc_dic, revscc_dic, num_nodes)"
   ]
  },
  {
   "cell_type": "code",
   "execution_count": null,
   "metadata": {
    "collapsed": true
   },
   "outputs": [],
   "source": []
  }
 ],
 "metadata": {
  "anaconda-cloud": {},
  "kernelspec": {
   "display_name": "Python [Root]",
   "language": "python",
   "name": "Python [Root]"
  },
  "language_info": {
   "codemirror_mode": {
    "name": "ipython",
    "version": 3
   },
   "file_extension": ".py",
   "mimetype": "text/x-python",
   "name": "python",
   "nbconvert_exporter": "python",
   "pygments_lexer": "ipython3",
   "version": "3.5.2"
  }
 },
 "nbformat": 4,
 "nbformat_minor": 0
}
