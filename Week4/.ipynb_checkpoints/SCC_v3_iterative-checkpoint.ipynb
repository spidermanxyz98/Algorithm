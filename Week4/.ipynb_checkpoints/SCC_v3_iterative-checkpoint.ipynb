{
 "cells": [
  {
   "cell_type": "code",
   "execution_count": 21,
   "metadata": {
    "collapsed": true
   },
   "outputs": [],
   "source": [
    "with open(\"input\") as file:\n",
    "    ori_data=[]\n",
    "    for line in file:\n",
    "        line=line.split()\n",
    "        if line:\n",
    "            line=[int(x)-1 for x in line]\n",
    "            ori_data.append(line)\n",
    "#ori_data"
   ]
  },
  {
   "cell_type": "code",
   "execution_count": 25,
   "metadata": {
    "collapsed": false
   },
   "outputs": [],
   "source": [
    "def res_scc(ori_data):\n",
    "    res_scc={}\n",
    "    for temp in ori_data:\n",
    "        if temp[1] in res_scc:\n",
    "            res_scc[temp[1]].append(temp[0])\n",
    "        else:\n",
    "            res_scc[temp[1]]=[temp[0]]\n",
    "    return(res_scc)\n",
    "\n",
    "def ori_scc(ori_data):\n",
    "    ori_scc={}\n",
    "    for temp in ori_data:\n",
    "        if temp[0] in ori_scc:\n",
    "            ori_scc[temp[0]].append(temp[1])\n",
    "        else:\n",
    "            ori_scc[temp[0]]=[temp[1]]\n",
    "    return(ori_scc)\n",
    "\n",
    "def finish_time(res_graph, max_node):\n",
    "    \n",
    "    #visited keeps track of the visited nodes\n",
    "    visited=set()\n",
    "    \n",
    "    #clock is used to record finish time of each node\n",
    "    clock=0\n",
    "    \n",
    "    #finish_time_dic is used to store the finish time of \n",
    "    #each node. The key is the name of the node.\n",
    "    finish_time_dic={}\n",
    "    \n",
    "    \n",
    "    for i in range(max_node,0,-1):\n",
    "\n",
    "        s=[i]                                    #s is the stack \n",
    "        \n",
    "        while s:\n",
    "            v=s.pop(0)                           #pop out the first element from the stack\n",
    "            if v not in visited:\n",
    "                s=[v]+s                          #If it is the first time, we add the node back to the stack\n",
    "                visited.add(v)                   #to remeber its position, so that we can get the finish time \n",
    "                if v in res_graph:               #make sure v has out going edge\n",
    "                    for w in res_graph[v]:\n",
    "                        s=[w]+s\n",
    "                        \n",
    "            else:                                #If it it the second time to see a node, then we assign\n",
    "                if v not in finish_time_dic:     #the finish time to it\n",
    "                    finish_time_dic[v]=clock\n",
    "                    clock+=1\n",
    "                    if (clock)%2000==0:\n",
    "                        print(clock)\n",
    "    return(finish_time_dic)\n",
    "    \n",
    "\n",
    "#This function switch the position of node and finish time in finish_time_dic\n",
    "#so that we can find out the correct order to do dfs\n",
    "def finish_time_to_node(finish_time_dic):\n",
    "    result={}\n",
    "    for temp in finish_time_dic:\n",
    "        result[finish_time_dic[temp]]=temp\n",
    "    return(result)                    "
   ]
  },
  {
   "cell_type": "code",
   "execution_count": 23,
   "metadata": {
    "collapsed": true
   },
   "outputs": [],
   "source": [
    "max_node=max(max(ori_data))\n",
    "res_graph=res_scc(ori_data)\n",
    "ori_graph=ori_scc(ori_data)"
   ]
  },
  {
   "cell_type": "code",
   "execution_count": 26,
   "metadata": {
    "collapsed": false
   },
   "outputs": [
    {
     "name": "stdout",
     "output_type": "stream",
     "text": [
      "2000\n",
      "4000\n",
      "6000\n",
      "8000\n",
      "10000\n",
      "12000\n",
      "14000\n",
      "16000\n",
      "18000\n",
      "20000\n",
      "22000\n",
      "24000\n",
      "26000\n"
     ]
    },
    {
     "ename": "KeyboardInterrupt",
     "evalue": "",
     "output_type": "error",
     "traceback": [
      "\u001b[1;31m---------------------------------------------------------------------------\u001b[0m",
      "\u001b[1;31mKeyboardInterrupt\u001b[0m                         Traceback (most recent call last)",
      "\u001b[1;32m<ipython-input-26-e305ded0069d>\u001b[0m in \u001b[0;36m<module>\u001b[1;34m()\u001b[0m\n\u001b[1;32m----> 1\u001b[1;33m \u001b[0mfinish_time_dic\u001b[0m\u001b[1;33m=\u001b[0m\u001b[0mfinish_time\u001b[0m\u001b[1;33m(\u001b[0m\u001b[0mres_graph\u001b[0m\u001b[1;33m,\u001b[0m\u001b[0mmax_node\u001b[0m\u001b[1;33m)\u001b[0m\u001b[1;33m\u001b[0m\u001b[0m\n\u001b[0m\u001b[0;32m      2\u001b[0m \u001b[1;31m#node_order=finish_time_to_node(finish_time_dic)\u001b[0m\u001b[1;33m\u001b[0m\u001b[1;33m\u001b[0m\u001b[0m\n",
      "\u001b[1;32m<ipython-input-25-2bcccb153f32>\u001b[0m in \u001b[0;36mfinish_time\u001b[1;34m(res_graph, max_node)\u001b[0m\n\u001b[0;32m     41\u001b[0m                 \u001b[1;32mif\u001b[0m \u001b[0mv\u001b[0m \u001b[1;32min\u001b[0m \u001b[0mres_graph\u001b[0m\u001b[1;33m:\u001b[0m               \u001b[1;31m#make sure v has out going edge\u001b[0m\u001b[1;33m\u001b[0m\u001b[0m\n\u001b[0;32m     42\u001b[0m                     \u001b[1;32mfor\u001b[0m \u001b[0mw\u001b[0m \u001b[1;32min\u001b[0m \u001b[0mres_graph\u001b[0m\u001b[1;33m[\u001b[0m\u001b[0mv\u001b[0m\u001b[1;33m]\u001b[0m\u001b[1;33m:\u001b[0m\u001b[1;33m\u001b[0m\u001b[0m\n\u001b[1;32m---> 43\u001b[1;33m                         \u001b[0ms\u001b[0m\u001b[1;33m=\u001b[0m\u001b[1;33m[\u001b[0m\u001b[0mw\u001b[0m\u001b[1;33m]\u001b[0m\u001b[1;33m+\u001b[0m\u001b[0ms\u001b[0m\u001b[1;33m\u001b[0m\u001b[0m\n\u001b[0m\u001b[0;32m     44\u001b[0m \u001b[1;33m\u001b[0m\u001b[0m\n\u001b[0;32m     45\u001b[0m             \u001b[1;32melse\u001b[0m\u001b[1;33m:\u001b[0m                                \u001b[1;31m#If it it the second time to see a node, then we assign\u001b[0m\u001b[1;33m\u001b[0m\u001b[0m\n",
      "\u001b[1;31mKeyboardInterrupt\u001b[0m: "
     ]
    }
   ],
   "source": [
    "finish_time_dic=finish_time(res_graph,max_node)\n",
    "#node_order=finish_time_to_node(finish_time_dic)"
   ]
  },
  {
   "cell_type": "code",
   "execution_count": null,
   "metadata": {
    "collapsed": false
   },
   "outputs": [],
   "source": [
    "def SCC(ori_graph,node_order, max_node):\n",
    "    \n",
    "    #res_graph=res_scc(ori_data)                        #reverse the graph\n",
    "    #finish_time_dic=finish_time(res_graph,max_node)    #calculate the finish time of the reversed graph \n",
    "    \n",
    "    #ori_graph=ori_scc(ori_data)                        #get the origin graph\n",
    "    \n",
    "    #node_order=finish_time_to_node(finish_time_dic)\n",
    "    \n",
    "    #print(\"res:\",res_graph)\n",
    "    #print(\"ori:\",ori_graph)\n",
    "    #print(\"finishtime:\",finish_time_dic)\n",
    "    #print(\"nodeorder:\",node_order)\n",
    "    #print(type(sorted(node_order.keys(), reverse=True)))\n",
    "    \n",
    "    \n",
    "    \n",
    "    visited=set()                                         #keep track of the visited nodes\n",
    "    scc_count_list=[]                                  #record the size of each scc \n",
    "    \n",
    "    \n",
    "    \n",
    "    \n",
    "    for i in range(max_node,0,-1):  #start with the maximum finish time\n",
    "\n",
    "        start=node_order[i]                            #get the node name from finish time\n",
    "        s=[start]\n",
    "        \n",
    "        scc_count=0\n",
    "                                                       ################################################  \n",
    "        while s:                                       #If this while loop finishes with scc_count    #                                   \n",
    "            v=s.pop(0)                                 #greater than zero, then a new scc is discoverd#\n",
    "            \n",
    "            if v not in visited:                       ################################################ \n",
    "                visited.add(v)\n",
    "                scc_count+=1                           #add 1 to scc_count if this is a new node\n",
    "                \n",
    "                if v in ori_graph:                     #v has outgoing edge\n",
    "                    for w in ori_graph[v]:\n",
    "                        s=[w]+s\n",
    "            else:                                      #if the node has been visited, we don't update\n",
    "                continue                               #scc_count \n",
    "        \n",
    "        if scc_count>0:\n",
    "            scc_count_list.append(scc_count)\n",
    "            \n",
    "    return(sorted(scc_count_list, reverse=True))"
   ]
  },
  {
   "cell_type": "code",
   "execution_count": null,
   "metadata": {
    "collapsed": false
   },
   "outputs": [],
   "source": [
    "SCC(ori_graph,node_order,max_node)"
   ]
  }
 ],
 "metadata": {
  "anaconda-cloud": {},
  "kernelspec": {
   "display_name": "Python [Root]",
   "language": "python",
   "name": "Python [Root]"
  },
  "language_info": {
   "codemirror_mode": {
    "name": "ipython",
    "version": 3
   },
   "file_extension": ".py",
   "mimetype": "text/x-python",
   "name": "python",
   "nbconvert_exporter": "python",
   "pygments_lexer": "ipython3",
   "version": "3.5.2"
  }
 },
 "nbformat": 4,
 "nbformat_minor": 0
}
