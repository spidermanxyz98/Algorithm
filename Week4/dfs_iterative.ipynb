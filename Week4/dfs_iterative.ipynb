{
 "cells": [
  {
   "cell_type": "code",
   "execution_count": 1,
   "metadata": {
    "collapsed": false
   },
   "outputs": [
    {
     "data": {
      "text/plain": [
       "[[0, 3],\n",
       " [1, 7],\n",
       " [2, 5],\n",
       " [3, 6],\n",
       " [4, 1],\n",
       " [5, 8],\n",
       " [6, 0],\n",
       " [7, 4],\n",
       " [7, 5],\n",
       " [8, 6],\n",
       " [8, 2]]"
      ]
     },
     "execution_count": 1,
     "metadata": {},
     "output_type": "execute_result"
    }
   ],
   "source": [
    "with open(\"test1\") as file:\n",
    "    ori_data=[]\n",
    "    for line in file:\n",
    "        line=line.split()\n",
    "        if line:\n",
    "            line=[int(x)-1 for x in line]\n",
    "            ori_data.append(line)\n",
    "ori_data"
   ]
  },
  {
   "cell_type": "code",
   "execution_count": 2,
   "metadata": {
    "collapsed": true
   },
   "outputs": [],
   "source": [
    "def res_scc(ori_data):\n",
    "    res_scc={}\n",
    "    for temp in ori_data:\n",
    "        if temp[1] in res_scc:\n",
    "            res_scc[temp[1]].append(temp[0])\n",
    "        else:\n",
    "            res_scc[temp[1]]=[temp[0]]\n",
    "    return(res_scc)\n",
    "\n",
    "def ori_scc(ori_data):\n",
    "    ori_scc={}\n",
    "    for temp in ori_data:\n",
    "        if temp[0] in ori_scc:\n",
    "            ori_scc[temp[0]].append(temp[1])\n",
    "        else:\n",
    "            ori_scc[temp[0]]=[temp[1]]\n",
    "    return(ori_scc)"
   ]
  },
  {
   "cell_type": "code",
   "execution_count": 11,
   "metadata": {
    "collapsed": true
   },
   "outputs": [],
   "source": [
    "def dfs(G,k):\n",
    "    visited, stack=set(), []\n",
    "    stack.append(k)\n",
    "    while stack:\n",
    "        v=stack.pop()\n",
    "        if v in visited:\n",
    "            continue\n",
    "        else:\n",
    "            visited.add(v)\n",
    "            stack.extend(G[v])\n",
    "            yield v"
   ]
  },
  {
   "cell_type": "code",
   "execution_count": 18,
   "metadata": {
    "collapsed": false
   },
   "outputs": [
    {
     "data": {
      "text/plain": [
       "[1, 7, 5, 8, 2, 6, 0, 3, 4]"
      ]
     },
     "execution_count": 18,
     "metadata": {},
     "output_type": "execute_result"
    }
   ],
   "source": [
    "ori_graph=ori_scc(ori_data)\n",
    "res_graph=res_scc(ori_data)\n",
    "list(dfs(ori_graph,1))"
   ]
  },
  {
   "cell_type": "code",
   "execution_count": null,
   "metadata": {
    "collapsed": true
   },
   "outputs": [],
   "source": []
  }
 ],
 "metadata": {
  "kernelspec": {
   "display_name": "Python [Root]",
   "language": "python",
   "name": "Python [Root]"
  },
  "language_info": {
   "codemirror_mode": {
    "name": "ipython",
    "version": 3
   },
   "file_extension": ".py",
   "mimetype": "text/x-python",
   "name": "python",
   "nbconvert_exporter": "python",
   "pygments_lexer": "ipython3",
   "version": "3.5.2"
  }
 },
 "nbformat": 4,
 "nbformat_minor": 0
}
