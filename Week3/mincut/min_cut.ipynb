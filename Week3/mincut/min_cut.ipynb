{
 "cells": [
  {
   "cell_type": "code",
   "execution_count": 2,
   "metadata": {
    "collapsed": true
   },
   "outputs": [],
   "source": [
    "import pandas as pd\n",
    "import numpy as np\n",
    "from copy import deepcopy"
   ]
  },
  {
   "cell_type": "code",
   "execution_count": 84,
   "metadata": {
    "collapsed": true
   },
   "outputs": [],
   "source": [
    "#label is a binary array with 1 and 0. findindex returns the index of kth\n",
    "#nonzero item. k start from 1 and the returned index start from zero\n",
    "def findindex(labels,k):\n",
    "    j=0\n",
    "    for i,item in enumerate(labels):\n",
    "        if item != 0:\n",
    "            j+=1\n",
    "        if j==k:\n",
    "            return(i)\n",
    "\n",
    "#randomly select an edge and return its two ends v1 and v2 (v1<v2)\n",
    "def seledge(graph, labels):\n",
    "    \n",
    "    #randomly choose an active vertex\n",
    "    k=np.random.randint(0,np.sum(labels))+1\n",
    "    v1=findindex(labels, k)\n",
    "    \n",
    "    #randomly choose a v1's neighbor\n",
    "    v2=graph[v1][np.random.randint(0,len(graph[v1]))]\n",
    "    \n",
    "    if v1>v2:\n",
    "        v1, v2 = v2, v1\n",
    "    return(v1,v2)\n",
    "    \n",
    "#find one certain cut and return the cut number\n",
    "def single_partition(graph, labels):\n",
    "    n=len(graph)\n",
    "    for i in np.arange(n-2):\n",
    "        v1, v2 = seledge(graph, labels)\n",
    "        fusion(graph, labels, v1, v2)\n",
    "    return(len(graph[0]))\n",
    "\n",
    "#run single_partition num_iter times and return a list of cut numbers\n",
    "def min_cut(graph,num_iter):\n",
    "    results=[]\n",
    "    for s in np.arange(num_iter):\n",
    "        graph_cp=deepcopy(graph)\n",
    "        labels=np.ones(len(graph_cp),dtype=np.int8)\n",
    "        results.append(single_partition(graph_cp, labels))\n",
    "    return(results)\n",
    "\n",
    "#graph is a list with each element an array. The ith array contains the neighbor of the ith vertex.\n",
    "#labels is used to label the vertex which are still active (1 for active 0 for not inactive) \n",
    "#v1 and v2 (start from zero v1 < v2) are the index of the selected two vetices about to fuse.\n",
    "def fusion(graph, labels, v1, v2):\n",
    "    #eliminate vertex v2\n",
    "    labels[v2]=0\n",
    "    \n",
    "    #remove the slef loop\n",
    "    if (v2) in graph[v1]:\n",
    "        index1,=np.where(graph[v1]==v2)\n",
    "        index2,=np.where(graph[v2]==v1)\n",
    "        graph[v2]=np.delete(graph[v2],index2)\n",
    "        graph[v1]=np.delete(graph[v1],index1)\n",
    "    \n",
    "    #combine v1 and v2\n",
    "    graph[v1]=np.concatenate([graph[v1],graph[v2]])\n",
    "    \n",
    "    #Since v2 is fused to v1 (no v2 exists in the graph), we need to update all the v2 with v1\n",
    "    for i in np.arange(len(labels)):\n",
    "        np.place(graph[i],graph[i]==v2, v1)\n",
    "            \n",
    "    \n",
    "    "
   ]
  },
  {
   "cell_type": "code",
   "execution_count": 118,
   "metadata": {
    "collapsed": false
   },
   "outputs": [
    {
     "data": {
      "text/plain": [
       "17"
      ]
     },
     "execution_count": 118,
     "metadata": {},
     "output_type": "execute_result"
    }
   ],
   "source": [
    "f=open('input',\"r\")\n",
    "graph=f.readlines()\n",
    "for i,item in enumerate(graph):\n",
    "    graph[i]=np.asarray([int(x) for x in graph[i].strip().split('\\t')])[1:]-1\n",
    "f.close\n",
    "n=len(graph)\n",
    "\n",
    "labels=np.ones(n, dtype=np.int8)\n",
    "np.min(min_cut(graph, 100))"
   ]
  },
  {
   "cell_type": "code",
   "execution_count": null,
   "metadata": {
    "collapsed": true
   },
   "outputs": [],
   "source": []
  }
 ],
 "metadata": {
  "anaconda-cloud": {},
  "kernelspec": {
   "display_name": "Python [Root]",
   "language": "python",
   "name": "Python [Root]"
  },
  "language_info": {
   "codemirror_mode": {
    "name": "ipython",
    "version": 3
   },
   "file_extension": ".py",
   "mimetype": "text/x-python",
   "name": "python",
   "nbconvert_exporter": "python",
   "pygments_lexer": "ipython3",
   "version": "3.5.2"
  }
 },
 "nbformat": 4,
 "nbformat_minor": 0
}
