{
 "cells": [
  {
   "cell_type": "code",
   "execution_count": 1,
   "metadata": {
    "collapsed": true
   },
   "outputs": [],
   "source": [
    "import urllib.request\n",
    "import sys\n",
    "import time"
   ]
  },
  {
   "cell_type": "code",
   "execution_count": 5,
   "metadata": {
    "collapsed": true
   },
   "outputs": [],
   "source": [
    "sys.setrecursionlimit(2001)"
   ]
  },
  {
   "cell_type": "code",
   "execution_count": 3,
   "metadata": {
    "collapsed": false
   },
   "outputs": [],
   "source": [
    "target_url=\"https://d18ky98rnyall9.cloudfront.net/_eed1bd08e2fa58bbe94b24c06a20dcdb_huffman.txt?Expires=1483660800&Signature=dGYo50dP9xblpXLyQ16vgJMXTCvs7V3-QH~~nuxKLhIK7DghreP3vRBPOMtZM0Gz-oD5oyAImimTB9uyt11GSM~fgszddsbjcsJHKz7KZ3ABc4nZNe4nQeFiXDWEfbE4XWzqSuPQd1mMRjU36BWKMhYLnHSLKwEZmrXgrXK0ZX4_&Key-Pair-Id=APKAJLTNE6QMUY6HBC5A\"\n",
    "data=urllib.request.urlopen(target_url).read()\n",
    "file=open(\"input\",\"w\")\n",
    "file.write(str(data,\"utf-8\"))\n",
    "file.close()"
   ]
  },
  {
   "cell_type": "code",
   "execution_count": 2,
   "metadata": {
    "collapsed": true
   },
   "outputs": [],
   "source": [
    "def min_2(p):\n",
    "    sort_p=sorted(p, key=p.__getitem__)    #return the keys sorted by its corresponding value.\n",
    "    return (sort_p[0], sort_p[1])"
   ]
  },
  {
   "cell_type": "code",
   "execution_count": 3,
   "metadata": {
    "collapsed": true
   },
   "outputs": [],
   "source": [
    "def Huffman(p):\n",
    "    if len(p)==2:\n",
    "        return dict(zip(p.keys(),[\"0\",\"1\"]))\n",
    "    \n",
    "    (a1,a2)=min_2(p)\n",
    "    p1=p_prime.pop(a1)\n",
    "    p2=p_prime.pop(a2)\n",
    "    p_prime[a1+a2]=p1+p2\n",
    "    \n",
    "    c=Huffman(p_prime)\n",
    "    c_a1a2=c.pop(a1+a2)\n",
    "    c[a1], c[a2]=c_a1a2+\"0\", c_a1a2+\"1\"\n",
    "    \n",
    "    return c"
   ]
  },
  {
   "cell_type": "code",
   "execution_count": 9,
   "metadata": {
    "collapsed": false
   },
   "outputs": [
    {
     "name": "stdout",
     "output_type": "stream",
     "text": [
      "0.30602073669433594\n"
     ]
    }
   ],
   "source": [
    "frequency={}\n",
    "with open(\"input\") as file:\n",
    "    for i,line in enumerate(file.readlines()[1:]):\n",
    "        frequency[str(i)]=int(line)\n",
    "        \n",
    "start_time=time.time()\n",
    "coded=Huffman(frequency)\n",
    "print(time.time()-start_time)"
   ]
  },
  {
   "cell_type": "code",
   "execution_count": 58,
   "metadata": {
    "collapsed": false
   },
   "outputs": [
    {
     "name": "stdout",
     "output_type": "stream",
     "text": [
      "19\n",
      "9\n"
     ]
    }
   ],
   "source": [
    "max=0\n",
    "for key in list(coded):\n",
    "    if len(coded[key])>max:\n",
    "        max=len(coded[key])\n",
    "print(max)\n",
    "\n",
    "min=20\n",
    "for key in list(coded):\n",
    "    if len(coded[key])<min:\n",
    "        min=len(coded[key])\n",
    "print(min)"
   ]
  }
 ],
 "metadata": {
  "anaconda-cloud": {},
  "kernelspec": {
   "display_name": "Python [Root]",
   "language": "python",
   "name": "Python [Root]"
  },
  "language_info": {
   "codemirror_mode": {
    "name": "ipython",
    "version": 3
   },
   "file_extension": ".py",
   "mimetype": "text/x-python",
   "name": "python",
   "nbconvert_exporter": "python",
   "pygments_lexer": "ipython3",
   "version": "3.5.2"
  }
 },
 "nbformat": 4,
 "nbformat_minor": 0
}
