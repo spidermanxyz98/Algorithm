{
 "cells": [
  {
   "cell_type": "code",
   "execution_count": 18,
   "metadata": {
    "collapsed": false
   },
   "outputs": [],
   "source": [
    "def mis(weight):\n",
    "    \n",
    "    A=[0]*len(weight)\n",
    "    A[0]=weight[0]\n",
    "    if weight[0]<weight[1]:\n",
    "        A[1]=weight[1]\n",
    "    else:\n",
    "        A[1]=weight[0]\n",
    "    for i in range(2,len(weight)):\n",
    "        if weight[i]+A[i-2]>A[i-1]:\n",
    "            A[i]=weight[i]+A[i-2]\n",
    "        else:\n",
    "            A[i]=A[i-1]\n",
    "    #return A\n",
    "    \n",
    "    elements=set()\n",
    "    i=len(weight)-1\n",
    "    \n",
    "    while i >=2:\n",
    "        if A[i-2]+weight[i]>A[i-1]:\n",
    "            elements.add(weight[i])\n",
    "            i-=2\n",
    "        else:\n",
    "            i-=1\n",
    "    if weight[2] in elements:\n",
    "        elements.add(weight[0])\n",
    "    elif weight[0]>weight[1]:\n",
    "        elements.add(weight[0])\n",
    "    else:\n",
    "        elements.add(weight[1])\n",
    "    return elements"
   ]
  },
  {
   "cell_type": "code",
   "execution_count": 19,
   "metadata": {
    "collapsed": false
   },
   "outputs": [
    {
     "data": {
      "text/plain": [
       "{3, 4, 5}"
      ]
     },
     "execution_count": 19,
     "metadata": {},
     "output_type": "execute_result"
    }
   ],
   "source": [
    "test=[3,1,4,3,5]\n",
    "mis(test)"
   ]
  },
  {
   "cell_type": "code",
   "execution_count": 9,
   "metadata": {
    "collapsed": false
   },
   "outputs": [
    {
     "name": "stdout",
     "output_type": "stream",
     "text": [
      "2\n",
      "3\n",
      "4\n"
     ]
    }
   ],
   "source": [
    "for i in range(2,5):\n",
    "    print(i)"
   ]
  },
  {
   "cell_type": "code",
   "execution_count": 12,
   "metadata": {
    "collapsed": true
   },
   "outputs": [],
   "source": [
    "test2=set()\n",
    "test2.add(2)"
   ]
  },
  {
   "cell_type": "code",
   "execution_count": 13,
   "metadata": {
    "collapsed": false
   },
   "outputs": [
    {
     "data": {
      "text/plain": [
       "{2}"
      ]
     },
     "execution_count": 13,
     "metadata": {},
     "output_type": "execute_result"
    }
   ],
   "source": [
    "test2"
   ]
  },
  {
   "cell_type": "code",
   "execution_count": null,
   "metadata": {
    "collapsed": true
   },
   "outputs": [],
   "source": []
  }
 ],
 "metadata": {
  "anaconda-cloud": {},
  "kernelspec": {
   "display_name": "Python [Root]",
   "language": "python",
   "name": "Python [Root]"
  },
  "language_info": {
   "codemirror_mode": {
    "name": "ipython",
    "version": 3
   },
   "file_extension": ".py",
   "mimetype": "text/x-python",
   "name": "python",
   "nbconvert_exporter": "python",
   "pygments_lexer": "ipython3",
   "version": "3.5.2"
  }
 },
 "nbformat": 4,
 "nbformat_minor": 0
}
