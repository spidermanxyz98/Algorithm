{
 "cells": [
  {
   "cell_type": "code",
   "execution_count": 10,
   "metadata": {
    "collapsed": true
   },
   "outputs": [],
   "source": [
    "import urllib.request"
   ]
  },
  {
   "cell_type": "code",
   "execution_count": 11,
   "metadata": {
    "collapsed": false
   },
   "outputs": [],
   "source": [
    "target_url=\"https://d18ky98rnyall9.cloudfront.net/_790eb8b186eefb5b63d0bf38b5096873_mwis.txt?Expires=1483833600&Signature=Znvw-AouoeHPB0l-NJWae7yArIgFxBHV9rVxJqUsZC05JCLCt9FgGmcrsBPYdXupD0JfmaM0HId2pA7wCLqluuJ2IjdRhplX29n9xTmJVcUJkNaHxOHV2kAsAZEAGz1Ex0jQMus5MI3Lxg2yGukzskFiHJbEfrQyygbGmfhUWyM_&Key-Pair-Id=APKAJLTNE6QMUY6HBC5A\"\n",
    "data=urllib.request.urlopen(target_url).read()\n",
    "file=open(\"input_2\",\"w\")\n",
    "file.write(str(data,\"utf-8\"))\n",
    "file.close()"
   ]
  },
  {
   "cell_type": "code",
   "execution_count": 13,
   "metadata": {
    "collapsed": false
   },
   "outputs": [
    {
     "data": {
      "text/plain": [
       "[4962786, 6395702]"
      ]
     },
     "execution_count": 13,
     "metadata": {},
     "output_type": "execute_result"
    }
   ],
   "source": [
    "w=[]\n",
    "with open(\"input_2\") as f:\n",
    "    for line in f.readlines()[1:]:\n",
    "        w.append(int(line))\n",
    "w[0:2]"
   ]
  },
  {
   "cell_type": "code",
   "execution_count": 8,
   "metadata": {
    "collapsed": false
   },
   "outputs": [],
   "source": [
    "def wis(weight):\n",
    "    \n",
    "    A=[0]*len(weight)\n",
    "    A[0]=weight[0]\n",
    "    if weight[0]<weight[1]:\n",
    "        A[1]=weight[1]\n",
    "    else:\n",
    "        A[1]=weight[0]\n",
    "    for i in range(2,len(weight)):\n",
    "        if weight[i]+A[i-2]>A[i-1]:\n",
    "            A[i]=weight[i]+A[i-2]\n",
    "        else:\n",
    "            A[i]=A[i-1]\n",
    "    #return A\n",
    "    \n",
    "    elements=set()\n",
    "    i=len(weight)-1\n",
    "    \n",
    "    while i >=2:\n",
    "        if A[i-2]+weight[i]>A[i-1]:\n",
    "            elements.add(weight[i])\n",
    "            i-=2\n",
    "        else:\n",
    "            i-=1\n",
    "    if weight[2] in elements:\n",
    "        elements.add(weight[0])\n",
    "    elif weight[0]>weight[1]:\n",
    "        elements.add(weight[0])\n",
    "    else:\n",
    "        elements.add(weight[1])\n",
    "    return elements"
   ]
  },
  {
   "cell_type": "code",
   "execution_count": 15,
   "metadata": {
    "collapsed": false
   },
   "outputs": [],
   "source": [
    "elements=wis(w)"
   ]
  },
  {
   "cell_type": "code",
   "execution_count": 19,
   "metadata": {
    "collapsed": false
   },
   "outputs": [
    {
     "name": "stdout",
     "output_type": "stream",
     "text": [
      "True False True False False True True False\n"
     ]
    }
   ],
   "source": [
    "print(w[0] in elements, w[1] in elements, w[2] in elements, w[3] in elements, w[16] in elements, w[116] in elements, w[516] in elements, w[996] in elements)"
   ]
  },
  {
   "cell_type": "code",
   "execution_count": null,
   "metadata": {
    "collapsed": true
   },
   "outputs": [],
   "source": []
  }
 ],
 "metadata": {
  "anaconda-cloud": {},
  "kernelspec": {
   "display_name": "Python [Root]",
   "language": "python",
   "name": "Python [Root]"
  },
  "language_info": {
   "codemirror_mode": {
    "name": "ipython",
    "version": 3
   },
   "file_extension": ".py",
   "mimetype": "text/x-python",
   "name": "python",
   "nbconvert_exporter": "python",
   "pygments_lexer": "ipython3",
   "version": "3.5.2"
  }
 },
 "nbformat": 4,
 "nbformat_minor": 0
}
