{
 "cells": [
  {
   "cell_type": "code",
   "execution_count": 10,
   "metadata": {
    "collapsed": false
   },
   "outputs": [],
   "source": [
    "import heapq\n",
    "import sys\n",
    "import timeit\n",
    "import time"
   ]
  },
  {
   "cell_type": "code",
   "execution_count": 11,
   "metadata": {
    "collapsed": true
   },
   "outputs": [],
   "source": [
    "sys.setrecursionlimit(2001)"
   ]
  },
  {
   "cell_type": "code",
   "execution_count": 31,
   "metadata": {
    "collapsed": true
   },
   "outputs": [],
   "source": [
    "def Huffman(p,q):\n",
    "    if len(p)==2:\n",
    "        return dict(zip(p.keys(),[\"0\",\"1\"]))\n",
    "\n",
    "    a1=heapq.heappop(q)[1]\n",
    "    a2=heapq.heappop(q)[1]\n",
    "    p1=p.pop(a1)\n",
    "    p2=p.pop(a2)\n",
    "    p[a1+a2]=p1+p2\n",
    "    heapq.heappush(q,[p1+p2, a1+a2])\n",
    "\n",
    "    c=Huffman(p,q)\n",
    "\n",
    "    c_a1a2=c.pop(a1+a2)\n",
    "    c[a1], c[a2]=c_a1a2+\"0\", c_a1a2+\"1\"\n",
    "    \n",
    "    return c\n"
   ]
  },
  {
   "cell_type": "code",
   "execution_count": 36,
   "metadata": {
    "collapsed": false
   },
   "outputs": [],
   "source": [
    "frequency={}\n",
    "q=[]\n",
    "with open(\"input\") as file:\n",
    "    for i,line in enumerate(file.readlines()[1:]):\n",
    "        frequency[str(i)]=int(line)\n",
    "        q.append([int(line),str(i)])\n",
    "heapq.heapify(q)"
   ]
  },
  {
   "cell_type": "code",
   "execution_count": 37,
   "metadata": {
    "collapsed": false
   },
   "outputs": [
    {
     "name": "stdout",
     "output_type": "stream",
     "text": [
      "0.015264034271240234\n"
     ]
    }
   ],
   "source": [
    "start_time=time.time()\n",
    "code=Huffman(frequency,q)\n",
    "print(time.time()-start_time)"
   ]
  },
  {
   "cell_type": "code",
   "execution_count": 6,
   "metadata": {
    "collapsed": false
   },
   "outputs": [
    {
     "name": "stdout",
     "output_type": "stream",
     "text": [
      "19\n",
      "9\n"
     ]
    }
   ],
   "source": [
    "max_num=0\n",
    "for key in code:\n",
    "    if len(code[key])>max_num:\n",
    "        max_num=len(code[key])\n",
    "print(max_num)\n",
    "\n",
    "min_num=20\n",
    "for key in code:\n",
    "    if len(code[key])<min_num:\n",
    "        min_num=len(code[key])\n",
    "print(min_num)"
   ]
  },
  {
   "cell_type": "code",
   "execution_count": null,
   "metadata": {
    "collapsed": true
   },
   "outputs": [],
   "source": []
  }
 ],
 "metadata": {
  "kernelspec": {
   "display_name": "Python [Root]",
   "language": "python",
   "name": "Python [Root]"
  },
  "language_info": {
   "codemirror_mode": {
    "name": "ipython",
    "version": 3
   },
   "file_extension": ".py",
   "mimetype": "text/x-python",
   "name": "python",
   "nbconvert_exporter": "python",
   "pygments_lexer": "ipython3",
   "version": "3.5.2"
  }
 },
 "nbformat": 4,
 "nbformat_minor": 0
}
